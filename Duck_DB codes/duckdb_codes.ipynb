{
 "cells": [
  {
   "cell_type": "markdown",
   "metadata": {},
   "source": [
    "# Using run_query & made a local database"
   ]
  },
  {
   "cell_type": "code",
   "execution_count": null,
   "metadata": {},
   "outputs": [],
   "source": [
    "import duckdb\n",
    "import pandas as pd\n",
    "\n",
    "# Step 1: Load CSV\n",
    "df = pd.read_csv('/kaggle/input/netflix-shows/netflix_titles.csv')\n",
    "\n",
    "# Step 2: Connect to DuckDB\n",
    "conn = duckdb.connect('netflix_project.duckdb')\n",
    "\n",
    "# ✅ Step 3: Register the DataFrame as a temporary view\n",
    "conn.register('df_view', df)\n",
    "\n",
    "# ✅ Step 4: Create or replace a permanent DuckDB table from the registered view\n",
    "conn.execute(\"CREATE OR REPLACE TABLE netflix AS SELECT * FROM df_view\")\n",
    "\n",
    "# Step 5: Define reusable SQL query runner\n",
    "def run_query(query):\n",
    "    return conn.execute(query).fetchdf()\n",
    "\n",
    "# Step 6: Example query\n",
    "print(\"🎥 Let's compare how many Movies and TV Shows are in the Netflix dataset.\")\n",
    "query = \"\"\"\n",
    "SELECT type, COUNT(*) AS count\n",
    "FROM netflix\n",
    "GROUP BY type\n",
    "\"\"\"\n",
    "df_result = run_query(query)\n",
    "print(df_result)"
   ]
  },
  {
   "cell_type": "code",
   "execution_count": null,
   "metadata": {},
   "outputs": [],
   "source": [
    "import duckdb\n",
    "import pandas as pd\n",
    "\n",
    "# Step 1: Load CSV\n",
    "df = pd.read_csv('/kaggle/input/netflix-shows/netflix_titles.csv')\n",
    "\n",
    "# Step 2: Connect to DuckDB\n",
    "conn = duckdb.connect('netflix_project.duckdb')\n",
    "\n",
    "# Step 3: Register the DataFrame as a DuckDB view\n",
    "conn.register('df_view', df)\n",
    "\n",
    "# Step 4: Create or replace a permanent DuckDB table\n",
    "conn.execute(\"CREATE OR REPLACE TABLE netflix AS SELECT * FROM df_view\")\n",
    "\n",
    "# Step 5: Define reusable SQL query runner\n",
    "def run_query(query):\n",
    "    return conn.execute(query).fetchdf()\n",
    "\n",
    "# Step 6: Example query\n",
    "print(\"🎥 Let's compare how many Movies and TV Shows are in the Netflix dataset.\")\n",
    "query = \"\"\"\n",
    "SELECT type, COUNT(*) AS count\n",
    "FROM netflix\n",
    "GROUP BY type\n",
    "\"\"\"\n",
    "df_result = run_query(query)\n",
    "print(df_result)"
   ]
  },
  {
   "cell_type": "markdown",
   "metadata": {},
   "source": [
    "# Same thing using lamda instead of def"
   ]
  },
  {
   "cell_type": "code",
   "execution_count": null,
   "metadata": {},
   "outputs": [],
   "source": [
    "import duckdb\n",
    "import pandas as pd\n",
    "\n",
    "# Step 1: Load CSV\n",
    "df = pd.read_csv('/kaggle/input/netflix-shows/netflix_titles.csv')\n",
    "\n",
    "# Step 2: Connect to DuckDB\n",
    "conn = duckdb.connect('netflix_project.duckdb')\n",
    "\n",
    "# ✅ Step 3: Register the DataFrame as a temporary view\n",
    "conn.register('df_view', df)\n",
    "\n",
    "# ✅ Step 4: Create or replace a permanent DuckDB table from the registered view\n",
    "conn.execute(\"CREATE OR REPLACE TABLE netflix AS SELECT * FROM df_view\")\n",
    "\n",
    "# ✅ Step 5: Define reusable SQL query runner using lambda\n",
    "duckq = lambda q: conn.execute(q).fetchdf()\n",
    "\n",
    "# ✅ Step 6: Example query\n",
    "print(\"🎥 Let's compare how many Movies and TV Shows are in the Netflix dataset.\")\n",
    "query = \"\"\"\n",
    "SELECT type, COUNT(*) AS count\n",
    "FROM netflix\n",
    "GROUP BY type\n",
    "\"\"\"\n",
    "df_result = duckq(query)\n",
    "print(df_result)"
   ]
  },
  {
   "cell_type": "markdown",
   "metadata": {},
   "source": [
    "# Another process add directly from csv we make database"
   ]
  },
  {
   "cell_type": "markdown",
   "metadata": {},
   "source": [
    "First Process"
   ]
  },
  {
   "cell_type": "code",
   "execution_count": null,
   "metadata": {},
   "outputs": [],
   "source": [
    "import duckdb\n",
    "import pandas as pd\n",
    "\n",
    "# Load the Netflix CSV file\n",
    "df = pd.read_csv(\"/kaggle/input/netflix-shows/netflix_titles.csv\")\n",
    "\n",
    "# ✅ Step 1: Define reusable function (no conn, no register)\n",
    "def run_query(query):\n",
    "    return duckdb.query(query).to_df()\n",
    "\n",
    "# ✅ Step 2: Use the DataFrame df directly inside the query\n",
    "query = \"\"\"\n",
    "SELECT type, COUNT(*) AS count\n",
    "FROM df\n",
    "GROUP BY type\n",
    "\"\"\"\n",
    "\n",
    "# Run the query\n",
    "result = run_query(query)\n",
    "print(result)"
   ]
  },
  {
   "cell_type": "markdown",
   "metadata": {},
   "source": [
    "2nd Process"
   ]
  },
  {
   "cell_type": "code",
   "execution_count": null,
   "metadata": {},
   "outputs": [],
   "source": [
    "import duckdb\n",
    "import pandas as pd\n",
    "\n",
    "# Step 1: Load your Netflix CSV file\n",
    "df = pd.read_csv(\"/kaggle/input/netflix-shows/netflix_titles.csv\")\n",
    "\n",
    "# Step 2: Register the DataFrame in DuckDB as a temporary view\n",
    "duckdb.register('df', df)\n",
    "\n",
    "# Step 3: Define a reusable SQL runner function\n",
    "def run_query(query):\n",
    "    return duckdb.query(query).to_df()\n",
    "\n",
    "# Step 4: Write and run a query\n",
    "query = \"\"\"\n",
    "SELECT type, COUNT(*) AS count\n",
    "FROM df\n",
    "GROUP BY type\n",
    "\"\"\"\n",
    "\n",
    "result = run_query(query)\n",
    "print(result)"
   ]
  },
  {
   "cell_type": "markdown",
   "metadata": {},
   "source": [
    "# Using Lambda"
   ]
  },
  {
   "cell_type": "code",
   "execution_count": null,
   "metadata": {},
   "outputs": [],
   "source": [
    "import duckdb\n",
    "import pandas as pd\n",
    "\n",
    "# Load the Netflix CSV file\n",
    "df = pd.read_csv(\"/kaggle/input/netflix-shows/netflix_titles.csv\")\n",
    "\n",
    "# ✅ Lambda version of run_query\n",
    "run_query = lambda q: duckdb.query(q).to_df()\n",
    "\n",
    "# Query using DataFrame df directly\n",
    "query = \"\"\"\n",
    "SELECT type, COUNT(*) AS count\n",
    "FROM df\n",
    "GROUP BY type\n",
    "\"\"\"\n",
    "\n",
    "# Execute the query\n",
    "result = run_query(query)\n",
    "print(result)"
   ]
  },
  {
   "cell_type": "markdown",
   "metadata": {},
   "source": [
    "Means duckdb use Df as my database name\n",
    "So after From use the database name which you gave"
   ]
  },
  {
   "cell_type": "markdown",
   "metadata": {},
   "source": [
    "## Now for multicsv files without connect using lambda"
   ]
  },
  {
   "cell_type": "code",
   "execution_count": null,
   "metadata": {},
   "outputs": [],
   "source": [
    "import duckdb\n",
    "import pandas as pd\n",
    "\n",
    "# Dictionary of CSV files and their aliases\n",
    "csv_files = {\n",
    "    \"video_game_sales.csv\": \"video_game_sales\",\n",
    "    \"game_reviews.csv\": \"game_reviews\",\n",
    "    \"console_specs.csv\": \"console_specs\"\n",
    "}\n",
    "\n",
    "# Load CSVs into DataFrames and register in DuckDB\n",
    "for file, alias in csv_files.items():\n",
    "    df = pd.read_csv(file)\n",
    "    duckdb.register(alias, df)  # Register each DataFrame with an alias\n",
    "\n",
    "# ✅ Lambda version of query runner\n",
    "run_query = lambda q: duckdb.query(q).to_df()\n",
    "\n",
    "# 🎯 Example: Query from video_game_sales\n",
    "query = \"\"\"\n",
    "SELECT Platform, SUM(Global_Sales) AS total_sales\n",
    "FROM video_game_sales\n",
    "GROUP BY Platform\n",
    "ORDER BY total_sales DESC\n",
    "\"\"\"\n",
    "\n",
    "# Run and show result\n",
    "result = run_query(query)\n",
    "print(result)"
   ]
  },
  {
   "cell_type": "markdown",
   "metadata": {},
   "source": [
    "## Now for multicsv files without connect "
   ]
  },
  {
   "cell_type": "code",
   "execution_count": null,
   "metadata": {},
   "outputs": [],
   "source": [
    "import duckdb\n",
    "import pandas as pd\n",
    "\n",
    "# Dictionary of CSV files and their aliases\n",
    "csv_files = {\n",
    "    \"video_game_sales.csv\": \"video_game_sales\",\n",
    "    \"game_reviews.csv\": \"game_reviews\",\n",
    "    \"console_specs.csv\": \"console_specs\"\n",
    "}\n",
    "\n",
    "# Load CSVs into DataFrames and register in DuckDB\n",
    "for file, alias in csv_files.items():\n",
    "    df = pd.read_csv(file)\n",
    "    duckdb.register(alias, df)  # Register each DataFrame with an alias\n",
    "\n",
    "# ✅ Reusable function version of query runner\n",
    "def run_query(query):\n",
    "    return duckdb.query(query).to_df()\n",
    "\n",
    "# 🎯 Example: Query from video_game_sales\n",
    "query = \"\"\"\n",
    "SELECT Platform, SUM(Global_Sales) AS total_sales\n",
    "FROM video_game_sales\n",
    "GROUP BY Platform\n",
    "ORDER BY total_sales DESC\n",
    "\"\"\"\n",
    "\n",
    "# Run and show result\n",
    "result = run_query(query)\n",
    "print(result)\n"
   ]
  },
  {
   "cell_type": "markdown",
   "metadata": {},
   "source": [
    "## 👇👇👇Now for multicsv for making connect to make local database"
   ]
  },
  {
   "cell_type": "code",
   "execution_count": null,
   "metadata": {},
   "outputs": [],
   "source": [
    "import duckdb\n",
    "import pandas as pd\n",
    "\n",
    "# Dictionary of CSV file names and their corresponding table names\n",
    "csv_files = {\n",
    "    \"video_game_sales.csv\": \"video_game_sales\",\n",
    "    \"game_reviews.csv\": \"game_reviews\",\n",
    "    \"console_specs.csv\": \"console_specs\"\n",
    "}\n",
    "\n",
    "# Connect to DuckDB (creates a file if it doesn't exist)\n",
    "conn = duckdb.connect(\"gaming_data.duckdb\")\n",
    "\n",
    "# Loop through files, read CSV, and save as table in DuckDB\n",
    "for file, table_name in csv_files.items():\n",
    "    df = pd.read_csv(file)\n",
    "    \n",
    "    # Register the DataFrame as a temporary view\n",
    "    conn.register('temp_df', df)\n",
    "    \n",
    "    # Create or replace a permanent DuckDB table\n",
    "    conn.execute(f\"CREATE OR REPLACE TABLE {table_name} AS SELECT * FROM temp_df\")\n",
    "\n",
    "print(\"✅ All CSV files successfully loaded into DuckDB!\")"
   ]
  },
  {
   "cell_type": "code",
   "execution_count": null,
   "metadata": {},
   "outputs": [],
   "source": [
    "## without functions query or lamda\n",
    "\n",
    "query = \"\"\"\n",
    "\n",
    "\"\"\"\n",
    "\n",
    "result = conn.execute(query).fetchdf()\n",
    "result\n"
   ]
  },
  {
   "cell_type": "code",
   "execution_count": null,
   "metadata": {},
   "outputs": [],
   "source": [
    "# ✅ Define reusable query function\n",
    "def run_query(query):\n",
    "    return conn.execute(query).fetchdf()\n",
    "\n",
    "# 🎯 SQL Query: Total global sales by platform\n",
    "query = \"\"\"\n",
    "\n",
    "\"\"\"\n",
    "\n",
    "# ✅ Run the query and store the result\n",
    "result = run_query(query)\n",
    "\n",
    "# 🖨️ Display the result\n",
    "print(result)\n"
   ]
  },
  {
   "cell_type": "code",
   "execution_count": null,
   "metadata": {},
   "outputs": [],
   "source": [
    "# ✅ Lambda version of reusable query function\n",
    "run_query = lambda query: conn.execute(query).fetchdf()\n",
    "\n",
    "# 🎯 SQL Query: Total global sales by platform\n",
    "query = \"\"\"\n",
    "\n",
    "\"\"\"\n",
    "\n",
    "# ✅ Run the query and store the result\n",
    "result = run_query(query)\n",
    "\n",
    "# 🖨️ Display the result\n",
    "result\n"
   ]
  },
  {
   "cell_type": "markdown",
   "metadata": {},
   "source": [
    "## Duckdb multicsv query without .register()👇👇"
   ]
  },
  {
   "cell_type": "code",
   "execution_count": null,
   "metadata": {},
   "outputs": [],
   "source": [
    "import duckdb\n",
    "import pandas as pd\n",
    "\n",
    "# Dictionary of CSV files and their DataFrame variable names\n",
    "csv_files = {\n",
    "    \"video_game_sales.csv\": \"video_game_sales\",\n",
    "    \"game_reviews.csv\": \"game_reviews\",\n",
    "    \"console_specs.csv\": \"console_specs\"\n",
    "}\n",
    "\n",
    "# Load CSVs into DataFrames with variable names as keys\n",
    "for file, var_name in csv_files.items():\n",
    "    globals()[var_name] = pd.read_csv(file)  # Dynamically create variables\n",
    "\n",
    "# ✅ Lambda version of query runner\n",
    "run_query = lambda q: duckdb.query(q).to_df()\n",
    "\n",
    "# 🎯 Example query from video_game_sales (no register needed)\n",
    "query = \"\"\"\n",
    "SELECT Platform, SUM(Global_Sales) AS total_sales\n",
    "FROM video_game_sales\n",
    "GROUP BY Platform\n",
    "ORDER BY total_sales DESC\n",
    "\"\"\"\n",
    "\n",
    "# Execute and print result\n",
    "result = run_query(query)\n",
    "print(result)"
   ]
  },
  {
   "cell_type": "code",
   "execution_count": null,
   "metadata": {},
   "outputs": [],
   "source": [
    "# ✅ How It Works:\n",
    "\n",
    "# globals()[var_name] = pd.read_csv(file)\n",
    "# → Dynamically creates DataFrames like:\n",
    "# \n",
    "# video_game_sales = pd.read_csv(\"video_game_sales.csv\")\n",
    "# game_reviews = pd.read_csv(\"game_reviews.csv\")\n",
    "# \n",
    "# DuckDB can automatically detect video_game_sales in memory during the query."
   ]
  },
  {
   "cell_type": "markdown",
   "metadata": {},
   "source": [
    "# ✅ Here's the cleanest way without using .register() or globals():\n",
    "\n",
    "# You can use duckdb.query(query).to_df() with Python object binding like this: 👇👇"
   ]
  },
  {
   "cell_type": "code",
   "execution_count": null,
   "metadata": {},
   "outputs": [],
   "source": [
    "import duckdb\n",
    "import pandas as pd\n",
    "\n",
    "# Load CSVs into DataFrames\n",
    "df_sales = pd.read_csv(\"video_game_sales.csv\")\n",
    "df_reviews = pd.read_csv(\"game_reviews.csv\")\n",
    "df_specs = pd.read_csv(\"console_specs.csv\")\n",
    "\n",
    "# ✅ Lambda query runner that accepts bindings (no register needed)\n",
    "run_query = lambda q: duckdb.query(q).to_df({'video_game_sales': df_sales, 'game_reviews': df_reviews, 'console_specs': df_specs})\n",
    "\n",
    "# Example Query\n",
    "query = \"\"\"\n",
    "SELECT Platform, SUM(Global_Sales) AS total_sales\n",
    "FROM video_game_sales\n",
    "GROUP BY Platform\n",
    "ORDER BY total_sales DESC\n",
    "\"\"\"\n",
    "\n",
    "# Run and print result\n",
    "result = run_query(query)\n",
    "print(result)"
   ]
  },
  {
   "cell_type": "code",
   "execution_count": null,
   "metadata": {},
   "outputs": [],
   "source": [
    "import duckdb\n",
    "import pandas as pd\n",
    "\n",
    "# Load CSVs into DataFrames\n",
    "df_sales = pd.read_csv(\"video_game_sales.csv\")\n",
    "df_reviews = pd.read_csv(\"game_reviews.csv\")\n",
    "df_specs = pd.read_csv(\"console_specs.csv\")\n",
    "\n",
    "# ✅ Reusable function to run SQL queries with DataFrame bindings\n",
    "def run_query(query):\n",
    "    return duckdb.query(query).to_df({\n",
    "        \"video_game_sales\": df_sales,\n",
    "        \"game_reviews\": df_reviews,\n",
    "        \"console_specs\": df_specs\n",
    "    })\n",
    "\n",
    "# 🎯 Example Query\n",
    "query = \"\"\"\n",
    "SELECT Platform, SUM(Global_Sales) AS total_sales\n",
    "FROM video_game_sales\n",
    "GROUP BY Platform\n",
    "ORDER BY total_sales DESC\n",
    "\"\"\"\n",
    "\n",
    "# Run and show result\n",
    "result = run_query(query)\n",
    "print(result)"
   ]
  }
 ],
 "metadata": {
  "kernelspec": {
   "display_name": "base",
   "language": "python",
   "name": "python3"
  },
  "language_info": {
   "name": "python",
   "version": "3.12.7"
  }
 },
 "nbformat": 4,
 "nbformat_minor": 2
}
