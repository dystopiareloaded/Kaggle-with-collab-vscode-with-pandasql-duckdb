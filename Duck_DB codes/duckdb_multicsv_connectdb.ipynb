{
 "cells": [
  {
   "cell_type": "markdown",
   "metadata": {},
   "source": [
    "## 👇👇👇Now for multicsv for making connect to make local database"
   ]
  },
  {
   "cell_type": "code",
   "execution_count": 1,
   "metadata": {},
   "outputs": [
    {
     "name": "stdout",
     "output_type": "stream",
     "text": [
      "✅ All CSV files successfully loaded into DuckDB!\n"
     ]
    }
   ],
   "source": [
    "import duckdb\n",
    "import pandas as pd\n",
    "\n",
    "# Dictionary of CSV file names and their corresponding table names\n",
    "csv_files = {\n",
    "    \"video_game_sales.csv\": \"video_game_sales\",\n",
    "    \"game_reviews.csv\": \"game_reviews\",\n",
    "    \"console_specs.csv\": \"console_specs\"\n",
    "}\n",
    "\n",
    "# Connect to DuckDB (creates a file if it doesn't exist)\n",
    "conn = duckdb.connect(\"gaming_data.duckdb\")\n",
    "\n",
    "# Loop through files, read CSV, and save as table in DuckDB\n",
    "for file, table_name in csv_files.items():\n",
    "    df = pd.read_csv(file)\n",
    "    \n",
    "    # Register the DataFrame as a temporary view\n",
    "    conn.register('temp_df', df)\n",
    "    \n",
    "    # Create or replace a permanent DuckDB table\n",
    "    conn.execute(f\"CREATE OR REPLACE TABLE {table_name} AS SELECT * FROM temp_df\")\n",
    "\n",
    "print(\"✅ All CSV files successfully loaded into DuckDB!\")"
   ]
  },
  {
   "cell_type": "code",
   "execution_count": 6,
   "metadata": {},
   "outputs": [
    {
     "data": {
      "text/html": [
       "<div>\n",
       "<style scoped>\n",
       "    .dataframe tbody tr th:only-of-type {\n",
       "        vertical-align: middle;\n",
       "    }\n",
       "\n",
       "    .dataframe tbody tr th {\n",
       "        vertical-align: top;\n",
       "    }\n",
       "\n",
       "    .dataframe thead th {\n",
       "        text-align: right;\n",
       "    }\n",
       "</style>\n",
       "<table border=\"1\" class=\"dataframe\">\n",
       "  <thead>\n",
       "    <tr style=\"text-align: right;\">\n",
       "      <th></th>\n",
       "      <th>Platform</th>\n",
       "      <th>avg_user_score</th>\n",
       "    </tr>\n",
       "  </thead>\n",
       "  <tbody>\n",
       "    <tr>\n",
       "      <th>0</th>\n",
       "      <td>PC</td>\n",
       "      <td>6.75</td>\n",
       "    </tr>\n",
       "    <tr>\n",
       "      <th>1</th>\n",
       "      <td>PS4</td>\n",
       "      <td>6.33</td>\n",
       "    </tr>\n",
       "    <tr>\n",
       "      <th>2</th>\n",
       "      <td>Xbox One</td>\n",
       "      <td>4.88</td>\n",
       "    </tr>\n",
       "    <tr>\n",
       "      <th>3</th>\n",
       "      <td>Switch</td>\n",
       "      <td>4.80</td>\n",
       "    </tr>\n",
       "  </tbody>\n",
       "</table>\n",
       "</div>"
      ],
      "text/plain": [
       "   Platform  avg_user_score\n",
       "0        PC            6.75\n",
       "1       PS4            6.33\n",
       "2  Xbox One            4.88\n",
       "3    Switch            4.80"
      ]
     },
     "execution_count": 6,
     "metadata": {},
     "output_type": "execute_result"
    }
   ],
   "source": [
    "## without functions query or lamda\n",
    "\n",
    "query = \"\"\"\n",
    "SELECT Platform, ROUND(AVG(User_Score), 2) AS avg_user_score\n",
    "FROM game_reviews\n",
    "GROUP BY Platform\n",
    "ORDER BY avg_user_score DESC\n",
    "\"\"\"\n",
    "\n",
    "result = conn.execute(query).fetchdf()\n",
    "result\n"
   ]
  },
  {
   "cell_type": "code",
   "execution_count": 2,
   "metadata": {},
   "outputs": [],
   "source": [
    "# ✅ Define reusable query function\n",
    "def run_query(query):\n",
    "    return conn.execute(query).fetchdf()"
   ]
  },
  {
   "cell_type": "code",
   "execution_count": null,
   "metadata": {},
   "outputs": [],
   "source": [
    "# ✅ Lambda version of reusable query function\n",
    "run_query = lambda query: conn.execute(query).fetchdf()"
   ]
  },
  {
   "cell_type": "code",
   "execution_count": 3,
   "metadata": {},
   "outputs": [],
   "source": [
    "# ✅ Define reusable query function\n",
    "def run_query(query):\n",
    "    return conn.execute(query).fetchdf()\n",
    "\n",
    "# 🎯 SQL Query: Total global sales by platform\n",
    "query = \"\"\"\n",
    "SELECT Platform, SUM(Global_Sales) AS total_sales\n",
    "FROM video_game_sales\n",
    "GROUP BY Platform\n",
    "ORDER BY total_sales DESC\n",
    "\"\"\"\n",
    "\n",
    "# ✅ Run the query and store the result\n",
    "result = run_query(query)\n",
    "\n",
    "# 🖨️ Display the result\n",
    "print(result)\n"
   ]
  },
  {
   "cell_type": "code",
   "execution_count": 4,
   "metadata": {},
   "outputs": [
    {
     "data": {
      "text/html": [
       "<div>\n",
       "<style scoped>\n",
       "    .dataframe tbody tr th:only-of-type {\n",
       "        vertical-align: middle;\n",
       "    }\n",
       "\n",
       "    .dataframe tbody tr th {\n",
       "        vertical-align: top;\n",
       "    }\n",
       "\n",
       "    .dataframe thead th {\n",
       "        text-align: right;\n",
       "    }\n",
       "</style>\n",
       "<table border=\"1\" class=\"dataframe\">\n",
       "  <thead>\n",
       "    <tr style=\"text-align: right;\">\n",
       "      <th></th>\n",
       "      <th>Platform</th>\n",
       "      <th>total_sales</th>\n",
       "    </tr>\n",
       "  </thead>\n",
       "  <tbody>\n",
       "    <tr>\n",
       "      <th>0</th>\n",
       "      <td>Switch</td>\n",
       "      <td>55.98</td>\n",
       "    </tr>\n",
       "    <tr>\n",
       "      <th>1</th>\n",
       "      <td>PC</td>\n",
       "      <td>42.63</td>\n",
       "    </tr>\n",
       "    <tr>\n",
       "      <th>2</th>\n",
       "      <td>PS4</td>\n",
       "      <td>29.44</td>\n",
       "    </tr>\n",
       "    <tr>\n",
       "      <th>3</th>\n",
       "      <td>Xbox One</td>\n",
       "      <td>8.34</td>\n",
       "    </tr>\n",
       "  </tbody>\n",
       "</table>\n",
       "</div>"
      ],
      "text/plain": [
       "   Platform  total_sales\n",
       "0    Switch        55.98\n",
       "1        PC        42.63\n",
       "2       PS4        29.44\n",
       "3  Xbox One         8.34"
      ]
     },
     "execution_count": 4,
     "metadata": {},
     "output_type": "execute_result"
    }
   ],
   "source": [
    "result"
   ]
  },
  {
   "cell_type": "code",
   "execution_count": 9,
   "metadata": {},
   "outputs": [
    {
     "data": {
      "text/html": [
       "<div>\n",
       "<style scoped>\n",
       "    .dataframe tbody tr th:only-of-type {\n",
       "        vertical-align: middle;\n",
       "    }\n",
       "\n",
       "    .dataframe tbody tr th {\n",
       "        vertical-align: top;\n",
       "    }\n",
       "\n",
       "    .dataframe thead th {\n",
       "        text-align: right;\n",
       "    }\n",
       "</style>\n",
       "<table border=\"1\" class=\"dataframe\">\n",
       "  <thead>\n",
       "    <tr style=\"text-align: right;\">\n",
       "      <th></th>\n",
       "      <th>Platform</th>\n",
       "      <th>total_sales</th>\n",
       "    </tr>\n",
       "  </thead>\n",
       "  <tbody>\n",
       "    <tr>\n",
       "      <th>0</th>\n",
       "      <td>Switch</td>\n",
       "      <td>55.98</td>\n",
       "    </tr>\n",
       "    <tr>\n",
       "      <th>1</th>\n",
       "      <td>PC</td>\n",
       "      <td>42.63</td>\n",
       "    </tr>\n",
       "    <tr>\n",
       "      <th>2</th>\n",
       "      <td>PS4</td>\n",
       "      <td>29.44</td>\n",
       "    </tr>\n",
       "    <tr>\n",
       "      <th>3</th>\n",
       "      <td>Xbox One</td>\n",
       "      <td>8.34</td>\n",
       "    </tr>\n",
       "  </tbody>\n",
       "</table>\n",
       "</div>"
      ],
      "text/plain": [
       "   Platform  total_sales\n",
       "0    Switch        55.98\n",
       "1        PC        42.63\n",
       "2       PS4        29.44\n",
       "3  Xbox One         8.34"
      ]
     },
     "execution_count": 9,
     "metadata": {},
     "output_type": "execute_result"
    }
   ],
   "source": [
    "# ✅ Lambda version of reusable query function\n",
    "run_query = lambda query: conn.execute(query).fetchdf()\n",
    "\n",
    "# 🎯 SQL Query: Total global sales by platform\n",
    "query = \"\"\"\n",
    "SELECT Platform, SUM(Global_Sales) AS total_sales\n",
    "FROM video_game_sales\n",
    "GROUP BY Platform\n",
    "ORDER BY total_sales DESC\n",
    "\"\"\"\n",
    "\n",
    "# ✅ Run the query and store the result\n",
    "result = run_query(query)\n",
    "\n",
    "# 🖨️ Display the result\n",
    "result\n"
   ]
  },
  {
   "cell_type": "code",
   "execution_count": null,
   "metadata": {},
   "outputs": [],
   "source": []
  }
 ],
 "metadata": {
  "kernelspec": {
   "display_name": "base",
   "language": "python",
   "name": "python3"
  },
  "language_info": {
   "codemirror_mode": {
    "name": "ipython",
    "version": 3
   },
   "file_extension": ".py",
   "mimetype": "text/x-python",
   "name": "python",
   "nbconvert_exporter": "python",
   "pygments_lexer": "ipython3",
   "version": "3.12.7"
  }
 },
 "nbformat": 4,
 "nbformat_minor": 2
}
