{
 "cells": [
  {
   "cell_type": "markdown",
   "metadata": {},
   "source": [
    "# Using run_query & made a local database"
   ]
  },
  {
   "cell_type": "code",
   "execution_count": 2,
   "metadata": {},
   "outputs": [
    {
     "name": "stdout",
     "output_type": "stream",
     "text": [
      "🎥 Let's compare how many Movies and TV Shows are in the Netflix dataset.\n"
     ]
    },
    {
     "data": {
      "text/html": [
       "<div>\n",
       "<style scoped>\n",
       "    .dataframe tbody tr th:only-of-type {\n",
       "        vertical-align: middle;\n",
       "    }\n",
       "\n",
       "    .dataframe tbody tr th {\n",
       "        vertical-align: top;\n",
       "    }\n",
       "\n",
       "    .dataframe thead th {\n",
       "        text-align: right;\n",
       "    }\n",
       "</style>\n",
       "<table border=\"1\" class=\"dataframe\">\n",
       "  <thead>\n",
       "    <tr style=\"text-align: right;\">\n",
       "      <th></th>\n",
       "      <th>type</th>\n",
       "      <th>count</th>\n",
       "    </tr>\n",
       "  </thead>\n",
       "  <tbody>\n",
       "    <tr>\n",
       "      <th>0</th>\n",
       "      <td>Movie</td>\n",
       "      <td>44</td>\n",
       "    </tr>\n",
       "    <tr>\n",
       "      <th>1</th>\n",
       "      <td>TV Show</td>\n",
       "      <td>56</td>\n",
       "    </tr>\n",
       "  </tbody>\n",
       "</table>\n",
       "</div>"
      ],
      "text/plain": [
       "      type  count\n",
       "0    Movie     44\n",
       "1  TV Show     56"
      ]
     },
     "execution_count": 2,
     "metadata": {},
     "output_type": "execute_result"
    }
   ],
   "source": [
    "import duckdb\n",
    "import pandas as pd\n",
    "\n",
    "# Step 1: Load CSV\n",
    "df = pd.read_csv('netflix_titles_synthetic.csv')\n",
    "\n",
    "# Step 2: Connect to DuckDB\n",
    "conn = duckdb.connect('netflix_project.duckdb')\n",
    "\n",
    "# ✅ Step 3: Register the DataFrame as a temporary view\n",
    "conn.register('df_view', df)\n",
    "\n",
    "# ✅ Step 4: Create or replace a permanent DuckDB table from the registered view\n",
    "conn.execute(\"CREATE OR REPLACE TABLE netflix AS SELECT * FROM df_view\")\n",
    "\n",
    "# Step 5: Define reusable SQL query runner\n",
    "def run_query(query):\n",
    "    return conn.execute(query).fetchdf()\n",
    "\n",
    "# Step 6: Example query\n",
    "print(\"🎥 Let's compare how many Movies and TV Shows are in the Netflix dataset.\")\n",
    "query = \"\"\"\n",
    "SELECT type, COUNT(*) AS count\n",
    "FROM netflix\n",
    "GROUP BY type\n",
    "\"\"\"\n",
    "df_result = run_query(query)\n",
    "df_result"
   ]
  },
  {
   "cell_type": "markdown",
   "metadata": {},
   "source": [
    "## Using lambda"
   ]
  },
  {
   "cell_type": "code",
   "execution_count": 4,
   "metadata": {},
   "outputs": [
    {
     "name": "stdout",
     "output_type": "stream",
     "text": [
      "🎥 Let's compare how many Movies and TV Shows are in the Netflix dataset.\n"
     ]
    },
    {
     "data": {
      "text/html": [
       "<div>\n",
       "<style scoped>\n",
       "    .dataframe tbody tr th:only-of-type {\n",
       "        vertical-align: middle;\n",
       "    }\n",
       "\n",
       "    .dataframe tbody tr th {\n",
       "        vertical-align: top;\n",
       "    }\n",
       "\n",
       "    .dataframe thead th {\n",
       "        text-align: right;\n",
       "    }\n",
       "</style>\n",
       "<table border=\"1\" class=\"dataframe\">\n",
       "  <thead>\n",
       "    <tr style=\"text-align: right;\">\n",
       "      <th></th>\n",
       "      <th>type</th>\n",
       "      <th>count</th>\n",
       "    </tr>\n",
       "  </thead>\n",
       "  <tbody>\n",
       "    <tr>\n",
       "      <th>0</th>\n",
       "      <td>Movie</td>\n",
       "      <td>44</td>\n",
       "    </tr>\n",
       "    <tr>\n",
       "      <th>1</th>\n",
       "      <td>TV Show</td>\n",
       "      <td>56</td>\n",
       "    </tr>\n",
       "  </tbody>\n",
       "</table>\n",
       "</div>"
      ],
      "text/plain": [
       "      type  count\n",
       "0    Movie     44\n",
       "1  TV Show     56"
      ]
     },
     "execution_count": 4,
     "metadata": {},
     "output_type": "execute_result"
    }
   ],
   "source": [
    "import duckdb\n",
    "import pandas as pd\n",
    "\n",
    "# Step 1: Load CSV\n",
    "df = pd.read_csv('netflix_titles_synthetic.csv')\n",
    "\n",
    "# Step 2: Connect to DuckDB\n",
    "conn = duckdb.connect('netflix_project.duckdb')\n",
    "\n",
    "# ✅ Step 3: Register the DataFrame as a temporary view\n",
    "conn.register('df_view', df)\n",
    "\n",
    "# ✅ Step 4: Create or replace a permanent DuckDB table from the registered view\n",
    "conn.execute(\"CREATE OR REPLACE TABLE netflix AS SELECT * FROM df_view\")\n",
    "\n",
    "# ✅ Step 5: Define reusable SQL query runner using lambda\n",
    "duckq = lambda q: conn.execute(q).fetchdf()\n",
    "\n",
    "# ✅ Step 6: Example query\n",
    "print(\"🎥 Let's compare how many Movies and TV Shows are in the Netflix dataset.\")\n",
    "query = \"\"\"\n",
    "SELECT type, COUNT(*) AS count\n",
    "FROM netflix\n",
    "GROUP BY type\n",
    "\"\"\"\n",
    "df_result = duckq(query)\n",
    "df_result"
   ]
  },
  {
   "cell_type": "markdown",
   "metadata": {},
   "source": [
    "# For kaggle "
   ]
  },
  {
   "cell_type": "code",
   "execution_count": null,
   "metadata": {},
   "outputs": [],
   "source": [
    "import duckdb\n",
    "import pandas as pd\n",
    "\n",
    "# Step 1: Load CSV\n",
    "df = pd.read_csv('/kaggle/input/netflix-shows/netflix_titles.csv')\n",
    "\n",
    "# Step 2: Connect to DuckDB\n",
    "conn = duckdb.connect('netflix_project.duckdb')\n",
    "\n",
    "# Step 3: Register the DataFrame as a DuckDB view\n",
    "conn.register('df_view', df)\n",
    "\n",
    "# Step 4: Create or replace a permanent DuckDB table\n",
    "conn.execute(\"CREATE OR REPLACE TABLE netflix AS SELECT * FROM df_view\")\n",
    "\n",
    "# Step 5: Define reusable SQL query runner\n",
    "def run_query(query):\n",
    "    return conn.execute(query).fetchdf()\n",
    "\n",
    "# Step 6: Example query\n",
    "print(\"🎥 Let's compare how many Movies and TV Shows are in the Netflix dataset.\")\n",
    "query = \"\"\"\n",
    "SELECT type, COUNT(*) AS count\n",
    "FROM netflix\n",
    "GROUP BY type\n",
    "\"\"\"\n",
    "df_result = run_query(query)\n",
    "print(df_result)"
   ]
  }
 ],
 "metadata": {
  "kernelspec": {
   "display_name": "base",
   "language": "python",
   "name": "python3"
  },
  "language_info": {
   "codemirror_mode": {
    "name": "ipython",
    "version": 3
   },
   "file_extension": ".py",
   "mimetype": "text/x-python",
   "name": "python",
   "nbconvert_exporter": "python",
   "pygments_lexer": "ipython3",
   "version": "3.12.7"
  }
 },
 "nbformat": 4,
 "nbformat_minor": 2
}
