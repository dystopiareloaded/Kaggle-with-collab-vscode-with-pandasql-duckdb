{
  "cells": [
    {
      "cell_type": "markdown",
      "metadata": {
        "id": "GU-xPAK4Efco"
      },
      "source": [
        "## Multicsv For VScode"
      ]
    },
    {
      "cell_type": "code",
      "execution_count": null,
      "metadata": {
        "id": "4YFrBdyJEfcr"
      },
      "outputs": [],
      "source": [
        "import duckdb\n",
        "import pandas as pd\n",
        "\n",
        "# ✅ Define filename-to-table mapping\n",
        "csv_files = {\n",
        "    \"begin_inventory.csv\": \"begin_inventory\",\n",
        "    \"end_inventory.csv\": \"end_inventory\",\n",
        "    \"purchase_prices.csv\": \"purchase_prices\",\n",
        "    \"purchases.csv\": \"purchases\",\n",
        "    \"sales.csv\": \"sales\",\n",
        "    \"vendor_invoice.csv\": \"vendor_invoice\"\n",
        "}\n",
        "\n",
        "# ✅ Load and register each CSV in DuckDB\n",
        "for file, table in csv_files.items():\n",
        "    try:\n",
        "        df = pd.read_csv(file)\n",
        "        duckdb.register(table, df)\n",
        "        print(f\"✅ Imported {file} into table '{table}'\")\n",
        "    except FileNotFoundError:\n",
        "        print(f\"⚠️ Skipped {file} — file not found\")\n",
        "\n",
        "# ✅ Optional: reusable query runner\n",
        "def run_query(query):\n",
        "    return duckdb.query(query).to_df()\n",
        "\n",
        "# ✅ Final confirmation message\n",
        "print(\"🎉 All files successfully imported into DuckDB session\")\n"
      ]
    },
    {
      "cell_type": "markdown",
      "metadata": {
        "id": "LoSNlo2aEfcv"
      },
      "source": [
        "## 👇👇👇Now for multicsv for making connect to make local database (VSCODE)"
      ]
    },
    {
      "cell_type": "code",
      "execution_count": null,
      "metadata": {
        "id": "dFROUHj4Efcw"
      },
      "outputs": [],
      "source": [
        "import duckdb\n",
        "import pandas as pd\n",
        "\n",
        "# Dictionary of CSV file names and their corresponding table names\n",
        "csv_files = {\n",
        "    \"video_game_sales.csv\": \"video_game_sales\",\n",
        "    \"game_reviews.csv\": \"game_reviews\",\n",
        "    \"console_specs.csv\": \"console_specs\"\n",
        "}\n",
        "\n",
        "# ✅ Connect to DuckDB (file-based persistent database)\n",
        "conn = duckdb.connect(\"gaming_data.duckdb\")\n",
        "\n",
        "# ✅ Loop through files, read CSV, and write to DuckDB\n",
        "for file, table_name in csv_files.items():\n",
        "    try:\n",
        "        df = pd.read_csv(file)\n",
        "        conn.register('temp_df', df)\n",
        "        conn.execute(f\"CREATE OR REPLACE TABLE {table_name} AS SELECT * FROM temp_df\")\n",
        "        print(f\"✅ Imported {file} into table '{table_name}'\")\n",
        "    except FileNotFoundError:\n",
        "        print(f\"⚠️ Skipped {file} — file not found\")\n",
        "\n",
        "# ✅ Optional: Close the connection\n",
        "conn.close()\n",
        "\n",
        "print(\"🎉 All available CSV files have been loaded into gaming_data.duckdb\")\n",
        "\n",
        "\n",
        "# ✅ Define reusable query function\n",
        "def run_query(query):\n",
        "    return conn.execute(query).fetchdf()\n",
        "\n",
        "# 🎯 SQL Query: Total global sales by platform\n",
        "query = \"\"\"\n",
        "SELECT Platform, SUM(Global_Sales) AS total_sales\n",
        "FROM video_game_sales\n",
        "GROUP BY Platform\n",
        "ORDER BY total_sales DESC\n",
        "\"\"\"\n",
        "\n",
        "# ✅ Run the query and store the result\n",
        "result = run_query(query)\n",
        "\n",
        "# 🖨️ Display the result\n",
        "print(\"\\n🎮 Total Global Sales by Platform:\\n\")\n",
        "print(result)\n"
      ]
    },
    {
      "cell_type": "markdown",
      "metadata": {
        "id": "dnJ1GQ3pEfcx"
      },
      "source": [
        "## Multicsv For google-collab"
      ]
    },
    {
      "cell_type": "code",
      "execution_count": null,
      "metadata": {
        "id": "1M3NGWHoEfcy"
      },
      "outputs": [],
      "source": [
        "import duckdb\n",
        "import pandas as pd\n",
        "from google.colab import files\n",
        "\n",
        "# ✅ Step 1: Upload files via UI\n",
        "uploaded = files.upload()  # Opens a dialog box to upload files\n",
        "\n",
        "# ✅ Step 2: Define filename-to-table mapping\n",
        "csv_files = {\n",
        "    \"begin_inventory.csv\": \"begin_inventory\",\n",
        "    \"end_inventory.csv\": \"end_inventory\",\n",
        "    \"purchase_prices.csv\": \"purchase_prices\",\n",
        "    \"purchases.csv\": \"purchases\",\n",
        "    \"sales.csv\": \"sales\",\n",
        "    \"vendor_invoice.csv\": \"vendor_invoice\"\n",
        "}\n",
        "\n",
        "# ✅ Step 3: Load and register each CSV in DuckDB using try-except\n",
        "for file, table in csv_files.items():\n",
        "    try:\n",
        "        df = pd.read_csv(file)\n",
        "        duckdb.register(table, df)\n",
        "        print(f\"✅ Imported {file} into table '{table}'\")\n",
        "    except FileNotFoundError:\n",
        "        print(f\"⚠️ Skipped {file} — file not uploaded\")\n",
        "\n",
        "# ✅ Optional: reusable query runner\n",
        "def run_query(query):\n",
        "    return duckdb.query(query).to_df()\n",
        "\n",
        "# ✅ Final confirmation message\n",
        "print(\"🎉 All files successfully imported into DuckDB session\")\n"
      ]
    },
    {
      "cell_type": "markdown",
      "metadata": {
        "id": "N1iMeftkEfcz"
      },
      "source": [
        "## 👇👇👇Now for multicsv for making connect to make local database in Google-collab"
      ]
    },
    {
      "cell_type": "code",
      "execution_count": null,
      "metadata": {
        "id": "ASr86_UiEfc0"
      },
      "outputs": [],
      "source": [
        "import duckdb\n",
        "import pandas as pd\n",
        "from google.colab import files\n",
        "\n",
        "# ✅ Step 1: Upload required CSVs manually\n",
        "uploaded = files.upload()  # Upload \"video_game_sales.csv\", etc.\n",
        "\n",
        "# ✅ Step 2: Define file-to-table mapping\n",
        "csv_files = {\n",
        "    \"video_game_sales.csv\": \"video_game_sales\",\n",
        "    \"game_reviews.csv\": \"game_reviews\",\n",
        "    \"console_specs.csv\": \"console_specs\"\n",
        "}\n",
        "\n",
        "# ✅ Step 3: Read and register CSVs into DuckDB\n",
        "for file, table_name in csv_files.items():\n",
        "    try:\n",
        "        df = pd.read_csv(file)\n",
        "        duckdb.register(\"temp_df\", df)\n",
        "        duckdb.execute(f\"CREATE OR REPLACE TABLE {table_name} AS SELECT * FROM temp_df\")\n",
        "        print(f\"✅ Imported {file} into table '{table_name}'\")\n",
        "    except FileNotFoundError:\n",
        "        print(f\"⚠️ Skipped {file} — file not uploaded\")\n",
        "\n",
        "# ✅ Step 4: Reusable query function\n",
        "def run_query(query):\n",
        "    return duckdb.query(query).to_df()\n",
        "\n",
        "# 🎯 Step 5: Business query — Global sales by platform\n",
        "query = \"\"\"\n",
        "SELECT Platform, SUM(Global_Sales) AS total_sales\n",
        "FROM video_game_sales\n",
        "GROUP BY Platform\n",
        "ORDER BY total_sales DESC\n",
        "\"\"\"\n",
        "\n",
        "# ✅ Step 6: Run and print result\n",
        "result = run_query(query)\n",
        "\n",
        "print(\"\\n🎮 Total Global Sales by Platform:\\n\")\n",
        "print(result)\n",
        "\n",
        "print(\"\\n🎉 All uploaded CSV files processed and query executed successfully!\")\n"
      ]
    },
    {
      "cell_type": "markdown",
      "metadata": {
        "id": "x0Ekg6TJEfc1"
      },
      "source": [
        "## Single-CSV For VSCode"
      ]
    },
    {
      "cell_type": "code",
      "execution_count": null,
      "metadata": {
        "id": "xDNA40MAEfc1"
      },
      "outputs": [],
      "source": [
        "import duckdb\n",
        "import pandas as pd\n",
        "\n",
        "# ✅ File and table alias\n",
        "file = \"sales.csv\"\n",
        "table = \"sales\"\n",
        "\n",
        "# ✅ Try reading and registering CSV in DuckDB\n",
        "try:\n",
        "    df = pd.read_csv(file)\n",
        "    duckdb.register(table, df)\n",
        "    print(f\"✅ Imported {file} into table '{table}'\")\n",
        "except FileNotFoundError:\n",
        "    print(f\"⚠️ Skipped {file} — file not found\")\n",
        "\n",
        "# ✅ Reusable query runner\n",
        "def run_query(query):\n",
        "    return duckdb.query(query).to_df()\n",
        "\n",
        "# ✅ Final message\n",
        "print(\"🎉 File processing complete.\")\n"
      ]
    },
    {
      "cell_type": "markdown",
      "metadata": {
        "id": "nZ6rSL6NEfc2"
      },
      "source": [
        "## 👇👇👇Now for Singlecsv for making connect to make local database (VSCODE)"
      ]
    },
    {
      "cell_type": "code",
      "execution_count": null,
      "metadata": {
        "id": "MaLqqaRQEfc3"
      },
      "outputs": [],
      "source": [
        "import duckdb\n",
        "import pandas as pd\n",
        "\n",
        "# ✅ Define CSV file and DuckDB table name\n",
        "file = \"video_game_sales.csv\"\n",
        "table = \"video_game_sales\"\n",
        "\n",
        "# ✅ Connect to persistent DuckDB database\n",
        "conn = duckdb.connect(\"gaming_data.duckdb\")\n",
        "\n",
        "# ✅ Try reading and storing the CSV in DuckDB\n",
        "try:\n",
        "    df = pd.read_csv(file)\n",
        "    conn.register(\"temp_df\", df)\n",
        "    conn.execute(f\"CREATE OR REPLACE TABLE {table} AS SELECT * FROM temp_df\")\n",
        "    print(f\"✅ Imported {file} into table '{table}'\")\n",
        "except FileNotFoundError:\n",
        "    print(f\"⚠️ Skipped {file} — file not found\")\n",
        "\n",
        "# ✅ Define reusable query function\n",
        "def run_query(query):\n",
        "    return conn.execute(query).fetchdf()\n",
        "\n",
        "# 🎯 Query: Total global sales by platform\n",
        "query = \"\"\"\n",
        "SELECT Platform, SUM(Global_Sales) AS total_sales\n",
        "FROM video_game_sales\n",
        "GROUP BY Platform\n",
        "ORDER BY total_sales DESC\n",
        "\"\"\"\n",
        "\n",
        "# ✅ Execute and print result\n",
        "result = run_query(query)\n",
        "print(\"\\n🎮 Total Global Sales by Platform:\\n\")\n",
        "print(result)\n",
        "\n",
        "# ✅ Optional: close DB connection\n",
        "conn.close()\n",
        "\n",
        "print(\"\\n🎉 Done! Single CSV loaded and query executed in VS Code.\")\n"
      ]
    },
    {
      "cell_type": "markdown",
      "metadata": {
        "id": "TWPZQhHmEfc4"
      },
      "source": [
        "# Single-CSV For Google-Collab"
      ]
    },
    {
      "cell_type": "code",
      "execution_count": null,
      "metadata": {
        "id": "msfxDO_YEfc4"
      },
      "outputs": [],
      "source": [
        "import duckdb\n",
        "import pandas as pd\n",
        "from google.colab import files\n",
        "\n",
        "# ✅ Upload the CSV file manually via file picker\n",
        "uploaded = files.upload()  # Upload 'sales.csv'\n",
        "\n",
        "# ✅ File and table alias\n",
        "file = \"sales.csv\"\n",
        "table = \"sales\"\n",
        "\n",
        "# ✅ Try reading and registering CSV in DuckDB\n",
        "try:\n",
        "    df = pd.read_csv(file)\n",
        "    duckdb.register(table, df)\n",
        "    print(f\"✅ Imported {file} into table '{table}'\")\n",
        "except FileNotFoundError:\n",
        "    print(f\"⚠️ Skipped {file} — file not uploaded\")\n",
        "\n",
        "# ✅ Reusable query runner\n",
        "def run_query(query):\n",
        "    return duckdb.query(query).to_df()\n",
        "\n",
        "# ✅ Final message\n",
        "print(\"🎉 File processing complete.\")\n"
      ]
    },
    {
      "cell_type": "markdown",
      "metadata": {
        "id": "2zHlfq5ZEfc4"
      },
      "source": [
        "## 👇👇👇Now for Singlecsv for making connect to make local database (Google-collab)"
      ]
    },
    {
      "cell_type": "code",
      "execution_count": null,
      "metadata": {
        "id": "vkN4hqEaEfc5"
      },
      "outputs": [],
      "source": [
        "import duckdb\n",
        "import pandas as pd\n",
        "from google.colab import files\n",
        "\n",
        "# ✅ Upload the file manually via UI\n",
        "uploaded = files.upload()  # Upload 'video_game_sales.csv'\n",
        "\n",
        "# ✅ Define file and table name\n",
        "file = \"video_game_sales.csv\"\n",
        "table = \"video_game_sales\"\n",
        "\n",
        "# ✅ Read and register into DuckDB\n",
        "try:\n",
        "    df = pd.read_csv(file)\n",
        "    duckdb.register(\"temp_df\", df)\n",
        "    duckdb.execute(f\"CREATE OR REPLACE TABLE {table} AS SELECT * FROM temp_df\")\n",
        "    print(f\"✅ Imported {file} into table '{table}'\")\n",
        "except FileNotFoundError:\n",
        "    print(f\"⚠️ Skipped {file} — file not uploaded\")\n",
        "\n",
        "# ✅ Reusable query function\n",
        "def run_query(query):\n",
        "    return duckdb.query(query).to_df()\n",
        "\n",
        "# 🎯 Query: Total global sales by platform\n",
        "query = \"\"\"\n",
        "SELECT Platform, SUM(Global_Sales) AS total_sales\n",
        "FROM video_game_sales\n",
        "GROUP BY Platform\n",
        "ORDER BY total_sales DESC\n",
        "\"\"\"\n",
        "\n",
        "# ✅ Execute and show result\n",
        "result = run_query(query)\n",
        "print(\"\\n🎮 Total Global Sales by Platform:\\n\")\n",
        "print(result)\n",
        "\n",
        "print(\"\\n🎉 Done! Single CSV loaded and query executed in Colab.\")\n"
      ]
    },
    {
      "cell_type": "markdown",
      "metadata": {
        "id": "YR8p0HBEEfc5"
      },
      "source": [
        "# With os"
      ]
    },
    {
      "cell_type": "code",
      "execution_count": null,
      "metadata": {
        "id": "Fvf3MySBEfc5"
      },
      "outputs": [],
      "source": [
        "import duckdb\n",
        "import pandas as pd\n",
        "import os\n",
        "\n",
        "# ✅ Define filename-to-table mapping\n",
        "csv_files = {\n",
        "    \"begin_inventory.csv\": \"begin_inventory\",\n",
        "    \"end_inventory.csv\": \"end_inventory\",\n",
        "    \"purchase_prices.csv\": \"purchase_prices\",\n",
        "    \"purchases.csv\": \"purchases\",\n",
        "    \"sales.csv\": \"sales\",\n",
        "    \"vendor_invoice.csv\": \"vendor_invoice\"\n",
        "}\n",
        "\n",
        "# ✅ Load and register each CSV in DuckDB\n",
        "for file, table in csv_files.items():\n",
        "    if os.path.exists(file):\n",
        "        df = pd.read_csv(file)\n",
        "        duckdb.register(table, df)\n",
        "        print(f\"✅ Imported {file} into table '{table}'\")\n",
        "    else:\n",
        "        print(f\"⚠️ Skipped {file} — file not found in directory\")\n",
        "\n",
        "# ✅ Optional: reusable query runner\n",
        "def run_query(query):\n",
        "    return duckdb.query(query).to_df()\n",
        "\n",
        "# ✅ Final confirmation message\n",
        "print(\"🎉 All files successfully imported into DuckDB session\")\n"
      ]
    }
  ],
  "metadata": {
    "kernelspec": {
      "display_name": "base",
      "language": "python",
      "name": "python3"
    },
    "language_info": {
      "name": "python",
      "version": "3.12.7"
    },
    "colab": {
      "provenance": []
    }
  },
  "nbformat": 4,
  "nbformat_minor": 0
}