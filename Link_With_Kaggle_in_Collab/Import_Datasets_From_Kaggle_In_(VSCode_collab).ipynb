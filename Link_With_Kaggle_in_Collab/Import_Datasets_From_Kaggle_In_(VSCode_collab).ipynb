{
  "nbformat": 4,
  "nbformat_minor": 0,
  "metadata": {
    "colab": {
      "provenance": []
    },
    "kernelspec": {
      "name": "python3",
      "display_name": "Python 3"
    },
    "language_info": {
      "name": "python"
    }
  },
  "cells": [
    {
      "cell_type": "markdown",
      "source": [
        "**VSCODE**"
      ],
      "metadata": {
        "id": "6psa8wHLe9lX"
      }
    },
    {
      "cell_type": "markdown",
      "source": [
        "## ✅ Here's how to do it step-by-step:\n",
        "🧭 Step-by-step on Windows (PowerShell or Command Prompt):\n",
        "\n",
        "🔍 Locate your kaggle.json\n",
        "\n",
        "It will be in your Downloads folder after downloading it from Kaggle Account\n",
        "\n",
        "Settings.\n",
        "\n",
        "🧰 Open Command Prompt or PowerShell (not in Python script):\n",
        "\n",
        "Press Windows + R → type cmd or powershell → hit Enter\n",
        "\n",
        "🛠️ Run the following (update path accordingly):\n",
        "\n",
        "bash\n",
        "\n",
        "Copy\n",
        "\n",
        "Edit\n",
        "\n",
        "mkdir %USERPROFILE%\\.kaggle\n",
        "\n",
        "move \"C:\\Users\\<YourName>\\Downloads\\kaggle.json\" %USERPROFILE%\\.kaggle\\\n",
        "\n",
        "## ✅ You’re done!"
      ],
      "metadata": {
        "id": "r-sKjQSreZa_"
      }
    },
    {
      "cell_type": "markdown",
      "source": [
        "**VSCODE-PROCESS-2**"
      ],
      "metadata": {
        "id": "ds1x_va-fCKf"
      }
    },
    {
      "cell_type": "markdown",
      "source": [
        "✅ OPTION 1: Using Kaggle Dataset in VS Code\n",
        "\n",
        "🔹 Step 1: Get Kaggle API Token\n",
        "\n",
        "Go to https://www.kaggle.com/account\n",
        "\n",
        "Scroll to API → Click “Create New API Token”\n",
        "\n",
        "A file named kaggle.json will be downloaded."
      ],
      "metadata": {
        "id": "wmnMcBowfLSP"
      }
    },
    {
      "cell_type": "markdown",
      "source": [
        "🔹 Step 2: Install Required Libraries\n",
        "\n",
        "Open a terminal in VS Code and run:"
      ],
      "metadata": {
        "id": "2ij7PwD7fQdv"
      }
    },
    {
      "cell_type": "code",
      "execution_count": null,
      "metadata": {
        "id": "IUiBEx6BeMwr"
      },
      "outputs": [],
      "source": [
        "pip install kaggle pandas matplotlib seaborn\n"
      ]
    },
    {
      "cell_type": "markdown",
      "source": [
        "🔹 Step 3: Authenticate Kaggle in VS Code\n",
        "\n",
        "Create a hidden .kaggle folder and move the API token:"
      ],
      "metadata": {
        "id": "vWgH9nD8fU7-"
      }
    },
    {
      "cell_type": "code",
      "source": [
        "mkdir ~/.kaggle\n",
        "mv /path/to/kaggle.json ~/.kaggle/\n",
        "chmod 600 ~/.kaggle/kaggle.json\n"
      ],
      "metadata": {
        "id": "IY2wviO7faKt"
      },
      "execution_count": null,
      "outputs": []
    },
    {
      "cell_type": "markdown",
      "source": [
        "🔹 Step 4: Download Dataset\n",
        "\n",
        "Use this Python code in your .py script or notebook:"
      ],
      "metadata": {
        "id": "2xPwtP8efcwe"
      }
    },
    {
      "cell_type": "code",
      "source": [
        "import kaggle\n",
        "\n",
        "# Example: Netflix dataset\n",
        "!kaggle datasets download -d shivamb/netflix-shows\n",
        "\n",
        "# Unzip it\n",
        "!unzip netflix-shows.zip -d ./netflix\n"
      ],
      "metadata": {
        "id": "yuI-ikz0ffmB"
      },
      "execution_count": null,
      "outputs": []
    },
    {
      "cell_type": "markdown",
      "source": [
        "🔹 Step 5: Load Data with Pandas"
      ],
      "metadata": {
        "id": "i3q8AV8qfh6o"
      }
    },
    {
      "cell_type": "code",
      "source": [
        "import pandas as pd\n",
        "\n",
        "df = pd.read_csv('./netflix/netflix_titles.csv')\n",
        "df.head()\n"
      ],
      "metadata": {
        "id": "qq7BZZtMflXY"
      },
      "execution_count": null,
      "outputs": []
    },
    {
      "cell_type": "markdown",
      "source": [
        "**GOOGLE-COLLAB**"
      ],
      "metadata": {
        "id": "-5RgXJkjfoPn"
      }
    },
    {
      "cell_type": "markdown",
      "source": [
        "## ✅ OPTION 2: Using Kaggle Dataset in Google Colab\n",
        "\n",
        "🔹 Step 1: Upload kaggle.json to Colab\n",
        "\n",
        "Go to your Colab notebook\n",
        "\n",
        "Run the following cell:"
      ],
      "metadata": {
        "id": "ANb9SxzSf2R_"
      }
    },
    {
      "cell_type": "code",
      "source": [
        "from google.colab import files\n",
        "files.upload()  # Choose your `kaggle.json` file\n"
      ],
      "metadata": {
        "id": "SFOkImAOfsSv"
      },
      "execution_count": null,
      "outputs": []
    },
    {
      "cell_type": "markdown",
      "source": [
        "# 🔹 Step 2: Move it to Right Location"
      ],
      "metadata": {
        "id": "WHf8Bloaf7rH"
      }
    },
    {
      "cell_type": "code",
      "source": [
        "!mkdir -p ~/.kaggle\n",
        "!cp kaggle.json ~/.kaggle/\n",
        "!chmod 600 ~/.kaggle/kaggle.json\n"
      ],
      "metadata": {
        "id": "JkuWLUu_f88d"
      },
      "execution_count": null,
      "outputs": []
    },
    {
      "cell_type": "markdown",
      "source": [
        "# 🔹 Step 3: Install and Download Dataset"
      ],
      "metadata": {
        "id": "9nfqglWOgIov"
      }
    },
    {
      "cell_type": "code",
      "source": [
        "!pip install kaggle\n",
        "!kaggle datasets download -d shivamb/netflix-shows\n",
        "!unzip netflix-shows.zip\n"
      ],
      "metadata": {
        "id": "dxs9PE_9gPGr"
      },
      "execution_count": null,
      "outputs": []
    },
    {
      "cell_type": "markdown",
      "source": [
        "# 🔹 Step 4: Load with Pandas and Visualize"
      ],
      "metadata": {
        "id": "BgTY0iOsgUPv"
      }
    },
    {
      "cell_type": "code",
      "source": [
        "import pandas as pd\n",
        "import seaborn as sns\n",
        "import matplotlib.pyplot as plt\n",
        "\n",
        "df = pd.read_csv(\"netflix_titles.csv\")\n",
        "sns.countplot(data=df, x='type')\n",
        "plt.title(\"Count of Movies vs TV Shows\")\n",
        "plt.show()\n"
      ],
      "metadata": {
        "id": "BqUXHzmhgTsO"
      },
      "execution_count": null,
      "outputs": []
    },
    {
      "cell_type": "markdown",
      "source": [
        "## ✅ BONUS: Write SQL Queries on CSV in Colab or VS Code\n",
        "\n",
        "You can use SQLite or pandasql:"
      ],
      "metadata": {
        "id": "u6S8NZSfgYcP"
      }
    },
    {
      "cell_type": "markdown",
      "source": [
        "#🔹 Using pandasql:\n"
      ],
      "metadata": {
        "id": "_HlH-u4VghT3"
      }
    },
    {
      "cell_type": "code",
      "source": [
        "from pandasql import sqldf\n",
        "pysqldf = lambda q: sqldf(q, globals())\n",
        "\n",
        "query = \"\"\"\n",
        "SELECT type, COUNT(*) as count\n",
        "FROM df\n",
        "GROUP BY type\n",
        "\"\"\"\n",
        "\n",
        "result = pysqldf(query)\n",
        "print(result)\n"
      ],
      "metadata": {
        "id": "0GgRW0ZBgdxS"
      },
      "execution_count": null,
      "outputs": []
    },
    {
      "cell_type": "markdown",
      "source": [
        "| Feature                    | VS Code                             | Google Colab                         |\n",
        "| -------------------------- | ----------------------------------- | ------------------------------------ |\n",
        "| 📥 Download Kaggle Dataset | ✅ `kaggle API` via CLI              | ✅ `files.upload()` then `kaggle API` |\n",
        "| 📊 Visualize with pandas   | ✅ Full control                      | ✅ Full control                       |\n",
        "| 🧠 Run SQL Queries         | ✅ Use SQLite or `pandasql`          | ✅ Same as VS Code                    |\n",
        "| 🔐 Authenticate Kaggle API | ✅ Move `kaggle.json` to `~/.kaggle` | ✅ Upload via Colab and move manually |\n"
      ],
      "metadata": {
        "id": "yZqAJB-qhB4H"
      }
    },
    {
      "cell_type": "code",
      "source": [],
      "metadata": {
        "id": "7Ev8DAG1hC2y"
      },
      "execution_count": null,
      "outputs": []
    }
  ]
}