{
 "cells": [
  {
   "cell_type": "code",
   "execution_count": 1,
   "metadata": {},
   "outputs": [
    {
     "name": "stdout",
     "output_type": "stream",
     "text": [
      "Requirement already satisfied: kaggle in d:\\anaconda3\\lib\\site-packages (1.7.4.5)\n",
      "Requirement already satisfied: bleach in d:\\anaconda3\\lib\\site-packages (from kaggle) (4.1.0)\n",
      "Requirement already satisfied: certifi>=14.05.14 in d:\\anaconda3\\lib\\site-packages (from kaggle) (2025.4.26)\n",
      "Requirement already satisfied: charset-normalizer in d:\\anaconda3\\lib\\site-packages (from kaggle) (3.3.2)\n",
      "Requirement already satisfied: idna in d:\\anaconda3\\lib\\site-packages (from kaggle) (3.7)\n",
      "Requirement already satisfied: protobuf in d:\\anaconda3\\lib\\site-packages (from kaggle) (4.25.3)\n",
      "Requirement already satisfied: python-dateutil>=2.5.3 in d:\\anaconda3\\lib\\site-packages (from kaggle) (2.9.0.post0)\n",
      "Requirement already satisfied: python-slugify in d:\\anaconda3\\lib\\site-packages (from kaggle) (5.0.2)\n",
      "Requirement already satisfied: requests in d:\\anaconda3\\lib\\site-packages (from kaggle) (2.32.3)\n",
      "Requirement already satisfied: setuptools>=21.0.0 in d:\\anaconda3\\lib\\site-packages (from kaggle) (75.1.0)\n",
      "Requirement already satisfied: six>=1.10 in d:\\anaconda3\\lib\\site-packages (from kaggle) (1.16.0)\n",
      "Requirement already satisfied: text-unidecode in d:\\anaconda3\\lib\\site-packages (from kaggle) (1.3)\n",
      "Requirement already satisfied: tqdm in d:\\anaconda3\\lib\\site-packages (from kaggle) (4.66.5)\n",
      "Requirement already satisfied: urllib3>=1.15.1 in d:\\anaconda3\\lib\\site-packages (from kaggle) (2.2.3)\n",
      "Requirement already satisfied: webencodings in d:\\anaconda3\\lib\\site-packages (from kaggle) (0.5.1)\n",
      "Requirement already satisfied: packaging in d:\\anaconda3\\lib\\site-packages (from bleach->kaggle) (24.1)\n",
      "Requirement already satisfied: colorama in d:\\anaconda3\\lib\\site-packages (from tqdm->kaggle) (0.4.6)\n"
     ]
    },
    {
     "name": "stderr",
     "output_type": "stream",
     "text": [
      "WARNING: Ignoring invalid distribution ~ (D:\\anaconda3\\Lib\\site-packages)\n",
      "WARNING: Ignoring invalid distribution ~treamlit (D:\\anaconda3\\Lib\\site-packages)\n",
      "WARNING: Ignoring invalid distribution ~ (D:\\anaconda3\\Lib\\site-packages)\n",
      "WARNING: Ignoring invalid distribution ~treamlit (D:\\anaconda3\\Lib\\site-packages)\n",
      "WARNING: Ignoring invalid distribution ~ (D:\\anaconda3\\Lib\\site-packages)\n",
      "WARNING: Ignoring invalid distribution ~treamlit (D:\\anaconda3\\Lib\\site-packages)\n"
     ]
    }
   ],
   "source": [
    "!pip install kaggle"
   ]
  },
  {
   "cell_type": "code",
   "execution_count": 2,
   "metadata": {},
   "outputs": [],
   "source": [
    "import kaggle "
   ]
  },
  {
   "cell_type": "markdown",
   "metadata": {},
   "source": [
    "# 🧪 How to verify it's working in Python (VS Code):\n",
    "Now, in VS Code, you can test it by running:"
   ]
  },
  {
   "cell_type": "code",
   "execution_count": 3,
   "metadata": {},
   "outputs": [
    {
     "name": "stdout",
     "output_type": "stream",
     "text": [
      "ref                                                            title                                                     size  lastUpdated                 downloadCount  voteCount  usabilityRating  \n",
      "-------------------------------------------------------------  --------------------------------------------------  ----------  --------------------------  -------------  ---------  ---------------  \n",
      "netflix-inc/netflix-prize-data                                 Netflix Prize data                                   716193814  2019-11-13 18:39:37.417000          99525       1410  0.7647059        \n",
      "shivamb/netflix-shows                                          Netflix Movies and TV Shows                            1400865  2021-09-27 04:44:36.770000         592633       9096  1.0              \n",
      "imtkaggleteam/netflix                                          NetFlix                                                1224946  2023-11-05 08:01:21.163000           2933         96  1.0              \n",
      "thedevastator/netflix-imdb-scores                              Netflix IMDB Scores                                     715788  2023-12-03 14:10:34.520000          11560        128  1.0              \n",
      "victorsoeiro/netflix-tv-shows-and-movies                       Netflix TV Shows and Movies                            2362159  2022-07-26 19:50:06.213000          47245        711  1.0              \n",
      "rahulvyasm/netflix-movies-and-tv-shows                         Netflix Movies and TV Shows                            1412315  2024-04-10 09:48:38.770000          37382        648  1.0              \n",
      "infamouscoder/dataset-netflix-shows                            Dataset: NetFlix Shows                                 1400856  2022-08-11 05:05:41.410000           8640        103  1.0              \n",
      "anandshaw2001/netflix-movies-and-tv-shows                      Netflix Movies and TV Shows                            1400865  2025-01-03 10:33:01.743000          27243        576  1.0              \n",
      "willianoliveiragibin/netflix-interactive                       Netflix interactive                                     451099  2025-02-15 17:07:34.903000           2056         39  1.0              \n",
      "octopusteam/full-netflix-dataset                               Full Netflix Dataset                                    524088  2025-06-14 08:00:50.657000           8035         88  1.0              \n",
      "chasewillden/netflix-shows                                     1000 Netflix Shows                                       10825  2017-06-11 03:30:16.350000          12171        143  0.8235294        \n",
      "ankulsharma150/netflix-data-analysis                           Netflix Data Analysis                                  1401944  2024-10-15 08:02:26.740000           6624         78  1.0              \n",
      "jainilcoder/netflix-stock-price-prediction                     Netflix Stock Price Prediction                           21417  2022-02-05 05:06:10.423000          17694        131  1.0              \n",
      "paramvir705/netflix-dataset                                    Netflix Dataset                                        1400865  2024-04-19 06:17:26.960000           2094         29  1.0              \n",
      "luiscorter/netflix-original-films-imdb-scores                  Netflix Original Films & IMDB Scores                     12745  2021-06-03 23:24:57.997000          22900        253  1.0              \n",
      "ariyoomotade/netflix-data-cleaning-analysis-and-visualization  Netflix Data: Cleaning, Analysis and Visualization      276607  2022-08-26 09:25:43.997000          38377        449  1.0              \n",
      "prathamjyotsingh/netflix-vs-disney                             Netflix vs. Disney                                      194733  2024-10-18 15:54:35.697000           2355         47  1.0              \n",
      "narayan63/netflix-popular-movies-dataset                       Netflix popular movies dataset                         1224974  2022-09-24 08:23:22.717000          11208         97  0.9411765        \n",
      "henryshan/netflix-stock-price                                  Netflix Stock Price                                     106655  2023-12-06 11:30:09.420000           1781         39  1.0              \n",
      "ruchi798/movies-on-netflix-prime-video-hulu-and-disney         Movies on Netflix, Prime Video, Hulu and Disney+        170402  2021-12-16 16:30:28.550000          33675        731  1.0              \n"
     ]
    }
   ],
   "source": [
    "!kaggle datasets list -s netflix"
   ]
  },
  {
   "cell_type": "markdown",
   "metadata": {},
   "source": [
    "# Download works but unzipping doesn't works"
   ]
  },
  {
   "cell_type": "code",
   "execution_count": null,
   "metadata": {},
   "outputs": [
    {
     "name": "stdout",
     "output_type": "stream",
     "text": [
      "Dataset URL: https://www.kaggle.com/datasets/shivamb/netflix-shows\n",
      "License(s): CC0-1.0\n",
      "netflix-shows.zip: Skipping, found more recently modified local copy (use --force to force download)\n"
     ]
    },
    {
     "name": "stderr",
     "output_type": "stream",
     "text": [
      "'unzip' is not recognized as an internal or external command,\n",
      "operable program or batch file.\n"
     ]
    }
   ],
   "source": [
    "import kaggle\n",
    "\n",
    "# Example: Netflix dataset\n",
    "!kaggle datasets download -d shivamb/netflix-shows\n",
    "\n",
    "# Unzip it\n",
    "!unzip netflix-shows.zip -d ./netflix\n"
   ]
  },
  {
   "cell_type": "markdown",
   "metadata": {},
   "source": [
    "## It makes a folder & then extract\n"
   ]
  },
  {
   "cell_type": "code",
   "execution_count": 8,
   "metadata": {},
   "outputs": [],
   "source": [
    "import zipfile\n",
    "\n",
    "with zipfile.ZipFile(\"netflix-shows.zip\", 'r') as zip_ref:\n",
    "    zip_ref.extractall(\"netflix\")\n"
   ]
  },
  {
   "cell_type": "code",
   "execution_count": 3,
   "metadata": {},
   "outputs": [],
   "source": [
    "import pandas as pd\n",
    "df = pd.read_csv(\"netflix/netflix_titles.csv\")\n"
   ]
  },
  {
   "cell_type": "code",
   "execution_count": 4,
   "metadata": {},
   "outputs": [
    {
     "data": {
      "text/html": [
       "<div>\n",
       "<style scoped>\n",
       "    .dataframe tbody tr th:only-of-type {\n",
       "        vertical-align: middle;\n",
       "    }\n",
       "\n",
       "    .dataframe tbody tr th {\n",
       "        vertical-align: top;\n",
       "    }\n",
       "\n",
       "    .dataframe thead th {\n",
       "        text-align: right;\n",
       "    }\n",
       "</style>\n",
       "<table border=\"1\" class=\"dataframe\">\n",
       "  <thead>\n",
       "    <tr style=\"text-align: right;\">\n",
       "      <th></th>\n",
       "      <th>show_id</th>\n",
       "      <th>type</th>\n",
       "      <th>title</th>\n",
       "      <th>director</th>\n",
       "      <th>cast</th>\n",
       "      <th>country</th>\n",
       "      <th>date_added</th>\n",
       "      <th>release_year</th>\n",
       "      <th>rating</th>\n",
       "      <th>duration</th>\n",
       "      <th>listed_in</th>\n",
       "      <th>description</th>\n",
       "    </tr>\n",
       "  </thead>\n",
       "  <tbody>\n",
       "    <tr>\n",
       "      <th>0</th>\n",
       "      <td>s1</td>\n",
       "      <td>Movie</td>\n",
       "      <td>Dick Johnson Is Dead</td>\n",
       "      <td>Kirsten Johnson</td>\n",
       "      <td>NaN</td>\n",
       "      <td>United States</td>\n",
       "      <td>September 25, 2021</td>\n",
       "      <td>2020</td>\n",
       "      <td>PG-13</td>\n",
       "      <td>90 min</td>\n",
       "      <td>Documentaries</td>\n",
       "      <td>As her father nears the end of his life, filmm...</td>\n",
       "    </tr>\n",
       "    <tr>\n",
       "      <th>1</th>\n",
       "      <td>s2</td>\n",
       "      <td>TV Show</td>\n",
       "      <td>Blood &amp; Water</td>\n",
       "      <td>NaN</td>\n",
       "      <td>Ama Qamata, Khosi Ngema, Gail Mabalane, Thaban...</td>\n",
       "      <td>South Africa</td>\n",
       "      <td>September 24, 2021</td>\n",
       "      <td>2021</td>\n",
       "      <td>TV-MA</td>\n",
       "      <td>2 Seasons</td>\n",
       "      <td>International TV Shows, TV Dramas, TV Mysteries</td>\n",
       "      <td>After crossing paths at a party, a Cape Town t...</td>\n",
       "    </tr>\n",
       "    <tr>\n",
       "      <th>2</th>\n",
       "      <td>s3</td>\n",
       "      <td>TV Show</td>\n",
       "      <td>Ganglands</td>\n",
       "      <td>Julien Leclercq</td>\n",
       "      <td>Sami Bouajila, Tracy Gotoas, Samuel Jouy, Nabi...</td>\n",
       "      <td>NaN</td>\n",
       "      <td>September 24, 2021</td>\n",
       "      <td>2021</td>\n",
       "      <td>TV-MA</td>\n",
       "      <td>1 Season</td>\n",
       "      <td>Crime TV Shows, International TV Shows, TV Act...</td>\n",
       "      <td>To protect his family from a powerful drug lor...</td>\n",
       "    </tr>\n",
       "    <tr>\n",
       "      <th>3</th>\n",
       "      <td>s4</td>\n",
       "      <td>TV Show</td>\n",
       "      <td>Jailbirds New Orleans</td>\n",
       "      <td>NaN</td>\n",
       "      <td>NaN</td>\n",
       "      <td>NaN</td>\n",
       "      <td>September 24, 2021</td>\n",
       "      <td>2021</td>\n",
       "      <td>TV-MA</td>\n",
       "      <td>1 Season</td>\n",
       "      <td>Docuseries, Reality TV</td>\n",
       "      <td>Feuds, flirtations and toilet talk go down amo...</td>\n",
       "    </tr>\n",
       "    <tr>\n",
       "      <th>4</th>\n",
       "      <td>s5</td>\n",
       "      <td>TV Show</td>\n",
       "      <td>Kota Factory</td>\n",
       "      <td>NaN</td>\n",
       "      <td>Mayur More, Jitendra Kumar, Ranjan Raj, Alam K...</td>\n",
       "      <td>India</td>\n",
       "      <td>September 24, 2021</td>\n",
       "      <td>2021</td>\n",
       "      <td>TV-MA</td>\n",
       "      <td>2 Seasons</td>\n",
       "      <td>International TV Shows, Romantic TV Shows, TV ...</td>\n",
       "      <td>In a city of coaching centers known to train I...</td>\n",
       "    </tr>\n",
       "  </tbody>\n",
       "</table>\n",
       "</div>"
      ],
      "text/plain": [
       "  show_id     type                  title         director  \\\n",
       "0      s1    Movie   Dick Johnson Is Dead  Kirsten Johnson   \n",
       "1      s2  TV Show          Blood & Water              NaN   \n",
       "2      s3  TV Show              Ganglands  Julien Leclercq   \n",
       "3      s4  TV Show  Jailbirds New Orleans              NaN   \n",
       "4      s5  TV Show           Kota Factory              NaN   \n",
       "\n",
       "                                                cast        country  \\\n",
       "0                                                NaN  United States   \n",
       "1  Ama Qamata, Khosi Ngema, Gail Mabalane, Thaban...   South Africa   \n",
       "2  Sami Bouajila, Tracy Gotoas, Samuel Jouy, Nabi...            NaN   \n",
       "3                                                NaN            NaN   \n",
       "4  Mayur More, Jitendra Kumar, Ranjan Raj, Alam K...          India   \n",
       "\n",
       "           date_added  release_year rating   duration  \\\n",
       "0  September 25, 2021          2020  PG-13     90 min   \n",
       "1  September 24, 2021          2021  TV-MA  2 Seasons   \n",
       "2  September 24, 2021          2021  TV-MA   1 Season   \n",
       "3  September 24, 2021          2021  TV-MA   1 Season   \n",
       "4  September 24, 2021          2021  TV-MA  2 Seasons   \n",
       "\n",
       "                                           listed_in  \\\n",
       "0                                      Documentaries   \n",
       "1    International TV Shows, TV Dramas, TV Mysteries   \n",
       "2  Crime TV Shows, International TV Shows, TV Act...   \n",
       "3                             Docuseries, Reality TV   \n",
       "4  International TV Shows, Romantic TV Shows, TV ...   \n",
       "\n",
       "                                         description  \n",
       "0  As her father nears the end of his life, filmm...  \n",
       "1  After crossing paths at a party, a Cape Town t...  \n",
       "2  To protect his family from a powerful drug lor...  \n",
       "3  Feuds, flirtations and toilet talk go down amo...  \n",
       "4  In a city of coaching centers known to train I...  "
      ]
     },
     "execution_count": 4,
     "metadata": {},
     "output_type": "execute_result"
    }
   ],
   "source": [
    "df.head()"
   ]
  },
  {
   "cell_type": "code",
   "execution_count": 1,
   "metadata": {},
   "outputs": [
    {
     "name": "stdout",
     "output_type": "stream",
     "text": [
      "Collecting pandasql\n",
      "  Downloading pandasql-0.7.3.tar.gz (26 kB)\n",
      "  Preparing metadata (setup.py): started\n",
      "  Preparing metadata (setup.py): finished with status 'done'\n",
      "Requirement already satisfied: numpy in d:\\anaconda3\\lib\\site-packages (from pandasql) (1.26.4)\n",
      "Requirement already satisfied: pandas in d:\\anaconda3\\lib\\site-packages (from pandasql) (2.2.2)\n",
      "Requirement already satisfied: sqlalchemy in d:\\anaconda3\\lib\\site-packages (from pandasql) (2.0.34)\n",
      "Requirement already satisfied: python-dateutil>=2.8.2 in d:\\anaconda3\\lib\\site-packages (from pandas->pandasql) (2.9.0.post0)\n",
      "Requirement already satisfied: pytz>=2020.1 in d:\\anaconda3\\lib\\site-packages (from pandas->pandasql) (2024.1)\n",
      "Requirement already satisfied: tzdata>=2022.7 in d:\\anaconda3\\lib\\site-packages (from pandas->pandasql) (2023.3)\n",
      "Requirement already satisfied: typing-extensions>=4.6.0 in d:\\anaconda3\\lib\\site-packages (from sqlalchemy->pandasql) (4.11.0)\n",
      "Requirement already satisfied: greenlet!=0.4.17 in d:\\anaconda3\\lib\\site-packages (from sqlalchemy->pandasql) (3.0.1)\n",
      "Requirement already satisfied: six>=1.5 in d:\\anaconda3\\lib\\site-packages (from python-dateutil>=2.8.2->pandas->pandasql) (1.16.0)\n",
      "Building wheels for collected packages: pandasql\n",
      "  Building wheel for pandasql (setup.py): started\n",
      "  Building wheel for pandasql (setup.py): finished with status 'done'\n",
      "  Created wheel for pandasql: filename=pandasql-0.7.3-py3-none-any.whl size=26801 sha256=5891921f706aeceb9816fce2a083f6e754affc180ca5c0a676fd8164dcd9c311\n",
      "  Stored in directory: c:\\users\\dell\\appdata\\local\\pip\\cache\\wheels\\15\\a1\\e7\\6f92f295b5272ae5c02365e6b8fa19cb93f16a537090a1cf27\n",
      "Successfully built pandasql\n",
      "Installing collected packages: pandasql\n",
      "Successfully installed pandasql-0.7.3\n"
     ]
    },
    {
     "name": "stderr",
     "output_type": "stream",
     "text": [
      "WARNING: Ignoring invalid distribution ~ (D:\\anaconda3\\Lib\\site-packages)\n",
      "WARNING: Ignoring invalid distribution ~treamlit (D:\\anaconda3\\Lib\\site-packages)\n",
      "WARNING: Ignoring invalid distribution ~ (D:\\anaconda3\\Lib\\site-packages)\n",
      "WARNING: Ignoring invalid distribution ~treamlit (D:\\anaconda3\\Lib\\site-packages)\n",
      "WARNING: Ignoring invalid distribution ~ (D:\\anaconda3\\Lib\\site-packages)\n",
      "WARNING: Ignoring invalid distribution ~treamlit (D:\\anaconda3\\Lib\\site-packages)\n"
     ]
    }
   ],
   "source": [
    "!pip install pandasql"
   ]
  },
  {
   "cell_type": "code",
   "execution_count": 5,
   "metadata": {},
   "outputs": [
    {
     "name": "stdout",
     "output_type": "stream",
     "text": [
      "      type  count\n",
      "0    Movie   6131\n",
      "1  TV Show   2676\n"
     ]
    }
   ],
   "source": [
    "from pandasql import sqldf\n",
    "pysqldf = lambda q: sqldf(q, globals())\n",
    "\n",
    "query = \"\"\"\n",
    "SELECT type, COUNT(*) as count\n",
    "FROM df\n",
    "GROUP BY type\n",
    "\"\"\"\n",
    "\n",
    "result = pysqldf(query)\n",
    "print(result)\n"
   ]
  },
  {
   "cell_type": "markdown",
   "metadata": {},
   "source": [
    "## OR\n"
   ]
  },
  {
   "cell_type": "code",
   "execution_count": 6,
   "metadata": {},
   "outputs": [
    {
     "name": "stdout",
     "output_type": "stream",
     "text": [
      "      type  count\n",
      "0    Movie   6131\n",
      "1  TV Show   2676\n"
     ]
    }
   ],
   "source": [
    "from pandasql import sqldf\n",
    "\n",
    "query = \"\"\"\n",
    "SELECT type, COUNT(*) as count\n",
    "FROM df\n",
    "GROUP BY type\n",
    "\"\"\"\n",
    "\n",
    "result = sqldf(query, locals())\n",
    "print(result)\n"
   ]
  },
  {
   "cell_type": "code",
   "execution_count": 9,
   "metadata": {},
   "outputs": [
    {
     "data": {
      "text/html": [
       "<div>\n",
       "<style scoped>\n",
       "    .dataframe tbody tr th:only-of-type {\n",
       "        vertical-align: middle;\n",
       "    }\n",
       "\n",
       "    .dataframe tbody tr th {\n",
       "        vertical-align: top;\n",
       "    }\n",
       "\n",
       "    .dataframe thead th {\n",
       "        text-align: right;\n",
       "    }\n",
       "</style>\n",
       "<table border=\"1\" class=\"dataframe\">\n",
       "  <thead>\n",
       "    <tr style=\"text-align: right;\">\n",
       "      <th></th>\n",
       "      <th>type</th>\n",
       "      <th>count</th>\n",
       "    </tr>\n",
       "  </thead>\n",
       "  <tbody>\n",
       "    <tr>\n",
       "      <th>0</th>\n",
       "      <td>Movie</td>\n",
       "      <td>6131</td>\n",
       "    </tr>\n",
       "    <tr>\n",
       "      <th>1</th>\n",
       "      <td>TV Show</td>\n",
       "      <td>2676</td>\n",
       "    </tr>\n",
       "  </tbody>\n",
       "</table>\n",
       "</div>"
      ],
      "text/plain": [
       "      type  count\n",
       "0    Movie   6131\n",
       "1  TV Show   2676"
      ]
     },
     "execution_count": 9,
     "metadata": {},
     "output_type": "execute_result"
    }
   ],
   "source": [
    "query = \"\"\"\n",
    "SELECT type, COUNT(*) as count\n",
    "FROM df\n",
    "GROUP BY type\n",
    "\"\"\"\n",
    "\n",
    "result = pysqldf(query)\n",
    "result  # or result.head()"
   ]
  },
  {
   "cell_type": "code",
   "execution_count": 7,
   "metadata": {},
   "outputs": [
    {
     "name": "stdout",
     "output_type": "stream",
     "text": [
      "  show_id     type                           title         director  \\\n",
      "0   s1471    Movie                Alaska Is a Drag     Shaz Bennett   \n",
      "1   s1472    Movie           Best of Stand-Up 2020             None   \n",
      "2   s1473    Movie                    Bobby Jasoos     Samar Shaikh   \n",
      "3   s1474  TV Show  Chilling Adventures of Sabrina             None   \n",
      "4   s1475    Movie                   Tarung Sarung  Archie Hekagery   \n",
      "\n",
      "                                                cast        country  \\\n",
      "0  Martin L. Washington Jr., Maya Washington, Mat...  United States   \n",
      "1  Jerry Seinfeld, Leslie Jones, Taylor Tomlinson...           None   \n",
      "2  Vidya Balan, Ali Fazal, Supriya Pathak, Tanvi ...          India   \n",
      "3  Kiernan Shipka, Ross Lynch, Miranda Otto, Lucy...  United States   \n",
      "4  Panji Zoni, Yayan Ruhian, Maizura, Cemal Faruk...      Indonesia   \n",
      "\n",
      "          date_added  release_year rating   duration  \\\n",
      "0  December 31, 2020          2017  TV-MA     83 min   \n",
      "1  December 31, 2020          2020  TV-MA     77 min   \n",
      "2  December 31, 2020          2014  TV-14    116 min   \n",
      "3  December 31, 2020          2020  TV-14  4 Seasons   \n",
      "4  December 31, 2020          2020  TV-PG    116 min   \n",
      "\n",
      "                                          listed_in  \\\n",
      "0                              Dramas, LGBTQ Movies   \n",
      "1                                   Stand-Up Comedy   \n",
      "2            Comedies, Dramas, International Movies   \n",
      "3      TV Horror, TV Mysteries, TV Sci-Fi & Fantasy   \n",
      "4  Action & Adventure, Dramas, Faith & Spirituality   \n",
      "\n",
      "                                         description  \n",
      "0  Tormented by bullies, an aspiring drag star wo...  \n",
      "1  From Jerry Seinfeld to Leslie Jones, Kevin Har...  \n",
      "2  With unlimited determination and zero field ex...  \n",
      "3  Magic and mischief collide as half-human, half...  \n",
      "4  Wealthy and spoiled, a young man finds somethi...  \n"
     ]
    }
   ],
   "source": [
    "q2 = \"\"\"SELECT * FROM df WHERE date_added LIKE '%2020%'\"\"\"\n",
    "print(pysqldf(q2).head())"
   ]
  },
  {
   "cell_type": "code",
   "execution_count": 8,
   "metadata": {},
   "outputs": [
    {
     "data": {
      "text/html": [
       "<div>\n",
       "<style scoped>\n",
       "    .dataframe tbody tr th:only-of-type {\n",
       "        vertical-align: middle;\n",
       "    }\n",
       "\n",
       "    .dataframe tbody tr th {\n",
       "        vertical-align: top;\n",
       "    }\n",
       "\n",
       "    .dataframe thead th {\n",
       "        text-align: right;\n",
       "    }\n",
       "</style>\n",
       "<table border=\"1\" class=\"dataframe\">\n",
       "  <thead>\n",
       "    <tr style=\"text-align: right;\">\n",
       "      <th></th>\n",
       "      <th>show_id</th>\n",
       "      <th>type</th>\n",
       "      <th>title</th>\n",
       "      <th>director</th>\n",
       "      <th>cast</th>\n",
       "      <th>country</th>\n",
       "      <th>date_added</th>\n",
       "      <th>release_year</th>\n",
       "      <th>rating</th>\n",
       "      <th>duration</th>\n",
       "      <th>listed_in</th>\n",
       "      <th>description</th>\n",
       "    </tr>\n",
       "  </thead>\n",
       "  <tbody>\n",
       "    <tr>\n",
       "      <th>0</th>\n",
       "      <td>s1471</td>\n",
       "      <td>Movie</td>\n",
       "      <td>Alaska Is a Drag</td>\n",
       "      <td>Shaz Bennett</td>\n",
       "      <td>Martin L. Washington Jr., Maya Washington, Mat...</td>\n",
       "      <td>United States</td>\n",
       "      <td>December 31, 2020</td>\n",
       "      <td>2017</td>\n",
       "      <td>TV-MA</td>\n",
       "      <td>83 min</td>\n",
       "      <td>Dramas, LGBTQ Movies</td>\n",
       "      <td>Tormented by bullies, an aspiring drag star wo...</td>\n",
       "    </tr>\n",
       "    <tr>\n",
       "      <th>1</th>\n",
       "      <td>s1472</td>\n",
       "      <td>Movie</td>\n",
       "      <td>Best of Stand-Up 2020</td>\n",
       "      <td>None</td>\n",
       "      <td>Jerry Seinfeld, Leslie Jones, Taylor Tomlinson...</td>\n",
       "      <td>None</td>\n",
       "      <td>December 31, 2020</td>\n",
       "      <td>2020</td>\n",
       "      <td>TV-MA</td>\n",
       "      <td>77 min</td>\n",
       "      <td>Stand-Up Comedy</td>\n",
       "      <td>From Jerry Seinfeld to Leslie Jones, Kevin Har...</td>\n",
       "    </tr>\n",
       "    <tr>\n",
       "      <th>2</th>\n",
       "      <td>s1473</td>\n",
       "      <td>Movie</td>\n",
       "      <td>Bobby Jasoos</td>\n",
       "      <td>Samar Shaikh</td>\n",
       "      <td>Vidya Balan, Ali Fazal, Supriya Pathak, Tanvi ...</td>\n",
       "      <td>India</td>\n",
       "      <td>December 31, 2020</td>\n",
       "      <td>2014</td>\n",
       "      <td>TV-14</td>\n",
       "      <td>116 min</td>\n",
       "      <td>Comedies, Dramas, International Movies</td>\n",
       "      <td>With unlimited determination and zero field ex...</td>\n",
       "    </tr>\n",
       "    <tr>\n",
       "      <th>3</th>\n",
       "      <td>s1474</td>\n",
       "      <td>TV Show</td>\n",
       "      <td>Chilling Adventures of Sabrina</td>\n",
       "      <td>None</td>\n",
       "      <td>Kiernan Shipka, Ross Lynch, Miranda Otto, Lucy...</td>\n",
       "      <td>United States</td>\n",
       "      <td>December 31, 2020</td>\n",
       "      <td>2020</td>\n",
       "      <td>TV-14</td>\n",
       "      <td>4 Seasons</td>\n",
       "      <td>TV Horror, TV Mysteries, TV Sci-Fi &amp; Fantasy</td>\n",
       "      <td>Magic and mischief collide as half-human, half...</td>\n",
       "    </tr>\n",
       "    <tr>\n",
       "      <th>4</th>\n",
       "      <td>s1475</td>\n",
       "      <td>Movie</td>\n",
       "      <td>Tarung Sarung</td>\n",
       "      <td>Archie Hekagery</td>\n",
       "      <td>Panji Zoni, Yayan Ruhian, Maizura, Cemal Faruk...</td>\n",
       "      <td>Indonesia</td>\n",
       "      <td>December 31, 2020</td>\n",
       "      <td>2020</td>\n",
       "      <td>TV-PG</td>\n",
       "      <td>116 min</td>\n",
       "      <td>Action &amp; Adventure, Dramas, Faith &amp; Spirituality</td>\n",
       "      <td>Wealthy and spoiled, a young man finds somethi...</td>\n",
       "    </tr>\n",
       "  </tbody>\n",
       "</table>\n",
       "</div>"
      ],
      "text/plain": [
       "  show_id     type                           title         director  \\\n",
       "0   s1471    Movie                Alaska Is a Drag     Shaz Bennett   \n",
       "1   s1472    Movie           Best of Stand-Up 2020             None   \n",
       "2   s1473    Movie                    Bobby Jasoos     Samar Shaikh   \n",
       "3   s1474  TV Show  Chilling Adventures of Sabrina             None   \n",
       "4   s1475    Movie                   Tarung Sarung  Archie Hekagery   \n",
       "\n",
       "                                                cast        country  \\\n",
       "0  Martin L. Washington Jr., Maya Washington, Mat...  United States   \n",
       "1  Jerry Seinfeld, Leslie Jones, Taylor Tomlinson...           None   \n",
       "2  Vidya Balan, Ali Fazal, Supriya Pathak, Tanvi ...          India   \n",
       "3  Kiernan Shipka, Ross Lynch, Miranda Otto, Lucy...  United States   \n",
       "4  Panji Zoni, Yayan Ruhian, Maizura, Cemal Faruk...      Indonesia   \n",
       "\n",
       "          date_added  release_year rating   duration  \\\n",
       "0  December 31, 2020          2017  TV-MA     83 min   \n",
       "1  December 31, 2020          2020  TV-MA     77 min   \n",
       "2  December 31, 2020          2014  TV-14    116 min   \n",
       "3  December 31, 2020          2020  TV-14  4 Seasons   \n",
       "4  December 31, 2020          2020  TV-PG    116 min   \n",
       "\n",
       "                                          listed_in  \\\n",
       "0                              Dramas, LGBTQ Movies   \n",
       "1                                   Stand-Up Comedy   \n",
       "2            Comedies, Dramas, International Movies   \n",
       "3      TV Horror, TV Mysteries, TV Sci-Fi & Fantasy   \n",
       "4  Action & Adventure, Dramas, Faith & Spirituality   \n",
       "\n",
       "                                         description  \n",
       "0  Tormented by bullies, an aspiring drag star wo...  \n",
       "1  From Jerry Seinfeld to Leslie Jones, Kevin Har...  \n",
       "2  With unlimited determination and zero field ex...  \n",
       "3  Magic and mischief collide as half-human, half...  \n",
       "4  Wealthy and spoiled, a young man finds somethi...  "
      ]
     },
     "execution_count": 8,
     "metadata": {},
     "output_type": "execute_result"
    }
   ],
   "source": [
    "q2 = \"\"\"SELECT * FROM df WHERE date_added LIKE '%2020%'\"\"\"\n",
    "result_q2 = pysqldf(q2)  # Store as a DataFrame\n",
    "result_q2.head()         # Show top 5 rows\n"
   ]
  },
  {
   "cell_type": "markdown",
   "metadata": {},
   "source": [
    "## For kaggle (PANDASQL)"
   ]
  },
  {
   "cell_type": "code",
   "execution_count": null,
   "metadata": {},
   "outputs": [],
   "source": [
    "# Install if needed\n",
    "!pip install pandasql --quiet\n",
    "\n",
    "import pandas as pd\n",
    "from pandasql import sqldf\n",
    "\n",
    "# Load the dataset (adjust path if needed)\n",
    "df = pd.read_csv(\"/kaggle/input/netflix-shows/netflix_titles.csv\")  # or local path\n",
    "pysqldf = lambda q: sqldf(q, globals())"
   ]
  },
  {
   "cell_type": "code",
   "execution_count": 10,
   "metadata": {},
   "outputs": [
    {
     "data": {
      "text/html": [
       "<div>\n",
       "<style scoped>\n",
       "    .dataframe tbody tr th:only-of-type {\n",
       "        vertical-align: middle;\n",
       "    }\n",
       "\n",
       "    .dataframe tbody tr th {\n",
       "        vertical-align: top;\n",
       "    }\n",
       "\n",
       "    .dataframe thead th {\n",
       "        text-align: right;\n",
       "    }\n",
       "</style>\n",
       "<table border=\"1\" class=\"dataframe\">\n",
       "  <thead>\n",
       "    <tr style=\"text-align: right;\">\n",
       "      <th></th>\n",
       "      <th>director</th>\n",
       "      <th>total</th>\n",
       "    </tr>\n",
       "  </thead>\n",
       "  <tbody>\n",
       "    <tr>\n",
       "      <th>0</th>\n",
       "      <td>Rajiv Chilaka</td>\n",
       "      <td>19</td>\n",
       "    </tr>\n",
       "    <tr>\n",
       "      <th>1</th>\n",
       "      <td>Raúl Campos, Jan Suter</td>\n",
       "      <td>18</td>\n",
       "    </tr>\n",
       "    <tr>\n",
       "      <th>2</th>\n",
       "      <td>Suhas Kadav</td>\n",
       "      <td>16</td>\n",
       "    </tr>\n",
       "    <tr>\n",
       "      <th>3</th>\n",
       "      <td>Marcus Raboy</td>\n",
       "      <td>16</td>\n",
       "    </tr>\n",
       "    <tr>\n",
       "      <th>4</th>\n",
       "      <td>Jay Karas</td>\n",
       "      <td>14</td>\n",
       "    </tr>\n",
       "  </tbody>\n",
       "</table>\n",
       "</div>"
      ],
      "text/plain": [
       "                 director  total\n",
       "0           Rajiv Chilaka     19\n",
       "1  Raúl Campos, Jan Suter     18\n",
       "2             Suhas Kadav     16\n",
       "3            Marcus Raboy     16\n",
       "4               Jay Karas     14"
      ]
     },
     "execution_count": 10,
     "metadata": {},
     "output_type": "execute_result"
    }
   ],
   "source": [
    "q6 = \"\"\"\n",
    "SELECT director, COUNT(*) as total \n",
    "FROM df \n",
    "WHERE director IS NOT NULL \n",
    "GROUP BY director \n",
    "ORDER BY total DESC \n",
    "LIMIT 5\n",
    "\"\"\"\n",
    "\n",
    "top_directors = pysqldf(q6)  # This is a DataFrame\n",
    "top_directors  # Displays as a table in Jupyter/Colab/Kaggle\n"
   ]
  },
  {
   "cell_type": "code",
   "execution_count": 11,
   "metadata": {},
   "outputs": [
    {
     "name": "stderr",
     "output_type": "stream",
     "text": [
      "C:\\Users\\Dell\\AppData\\Local\\Temp\\ipykernel_10376\\3058761600.py:4: FutureWarning: \n",
      "\n",
      "Passing `palette` without assigning `hue` is deprecated and will be removed in v0.14.0. Assign the `y` variable to `hue` and set `legend=False` for the same effect.\n",
      "\n",
      "  sns.barplot(data=top_directors, x=\"total\", y=\"director\", palette=\"viridis\")\n",
      "d:\\anaconda3\\Lib\\site-packages\\IPython\\core\\pylabtools.py:170: UserWarning: Glyph 127916 (\\N{CLAPPER BOARD}) missing from font(s) DejaVu Sans.\n",
      "  fig.canvas.print_figure(bytes_io, **kw)\n"
     ]
    },
    {
     "data": {
      "image/png": "[encoded data removed]",
      "text/plain": [
       "<Figure size 640x480 with 1 Axes>"
      ]
     },
     "metadata": {},
     "output_type": "display_data"
    }
   ],
   "source": [
    "import seaborn as sns\n",
    "import matplotlib.pyplot as plt\n",
    "\n",
    "sns.barplot(data=top_directors, x=\"total\", y=\"director\", palette=\"viridis\")\n",
    "plt.title(\"🎬 Top 5 Directors by Number of Titles on Netflix\")\n",
    "plt.xlabel(\"Number of Titles\")\n",
    "plt.ylabel(\"Director\")\n",
    "plt.show()\n"
   ]
  },
  {
   "cell_type": "markdown",
   "metadata": {},
   "source": [
    "## For Advanced SQL comple Use duckdb"
   ]
  },
  {
   "cell_type": "code",
   "execution_count": 12,
   "metadata": {},
   "outputs": [
    {
     "name": "stdout",
     "output_type": "stream",
     "text": [
      "Collecting duckdb\n",
      "  Downloading duckdb-1.3.0-cp312-cp312-win_amd64.whl.metadata (7.2 kB)\n",
      "Downloading duckdb-1.3.0-cp312-cp312-win_amd64.whl (11.4 MB)\n",
      "   ---------------------------------------- 0.0/11.4 MB ? eta -:--:--\n",
      "   ---------------------------------------- 0.0/11.4 MB ? eta -:--:--\n",
      "   ---------------------------------------- 0.0/11.4 MB ? eta -:--:--\n",
      "    --------------------------------------- 0.3/11.4 MB ? eta -:--:--\n",
      "   -- ------------------------------------- 0.8/11.4 MB 2.1 MB/s eta 0:00:06\n",
      "   --- ------------------------------------ 1.0/11.4 MB 1.9 MB/s eta 0:00:06\n",
      "   ---- ----------------------------------- 1.3/11.4 MB 1.5 MB/s eta 0:00:07\n",
      "   ----- ---------------------------------- 1.6/11.4 MB 1.4 MB/s eta 0:00:07\n",
      "   ------- -------------------------------- 2.1/11.4 MB 1.6 MB/s eta 0:00:06\n",
      "   -------- ------------------------------- 2.4/11.4 MB 1.6 MB/s eta 0:00:06\n",
      "   ----------- ---------------------------- 3.1/11.4 MB 1.8 MB/s eta 0:00:05\n",
      "   ----------- ---------------------------- 3.4/11.4 MB 1.9 MB/s eta 0:00:05\n",
      "   ---------------- ----------------------- 4.7/11.4 MB 2.2 MB/s eta 0:00:04\n",
      "   ------------------ --------------------- 5.2/11.4 MB 2.2 MB/s eta 0:00:03\n",
      "   --------------------- ------------------ 6.0/11.4 MB 2.4 MB/s eta 0:00:03\n",
      "   ----------------------- ---------------- 6.8/11.4 MB 2.4 MB/s eta 0:00:02\n",
      "   -------------------------- ------------- 7.6/11.4 MB 2.5 MB/s eta 0:00:02\n",
      "   ---------------------------- ----------- 8.1/11.4 MB 2.6 MB/s eta 0:00:02\n",
      "   ------------------------------- -------- 8.9/11.4 MB 2.6 MB/s eta 0:00:01\n",
      "   --------------------------------- ------ 9.7/11.4 MB 2.7 MB/s eta 0:00:01\n",
      "   ------------------------------------ --- 10.5/11.4 MB 2.7 MB/s eta 0:00:01\n",
      "   -------------------------------------- - 11.0/11.4 MB 2.8 MB/s eta 0:00:01\n",
      "   ---------------------------------------- 11.4/11.4 MB 2.8 MB/s eta 0:00:00\n",
      "Installing collected packages: duckdb\n",
      "Successfully installed duckdb-1.3.0\n"
     ]
    },
    {
     "name": "stderr",
     "output_type": "stream",
     "text": [
      "WARNING: Ignoring invalid distribution ~ (D:\\anaconda3\\Lib\\site-packages)\n",
      "WARNING: Ignoring invalid distribution ~treamlit (D:\\anaconda3\\Lib\\site-packages)\n",
      "WARNING: Ignoring invalid distribution ~ (D:\\anaconda3\\Lib\\site-packages)\n",
      "WARNING: Ignoring invalid distribution ~treamlit (D:\\anaconda3\\Lib\\site-packages)\n",
      "WARNING: Ignoring invalid distribution ~ (D:\\anaconda3\\Lib\\site-packages)\n",
      "WARNING: Ignoring invalid distribution ~treamlit (D:\\anaconda3\\Lib\\site-packages)\n"
     ]
    }
   ],
   "source": [
    "!pip install duckdb"
   ]
  },
  {
   "cell_type": "code",
   "execution_count": 13,
   "metadata": {},
   "outputs": [],
   "source": [
    "import duckdb\n",
    "\n",
    "duckq = lambda q: duckdb.query(q).to_df()\n",
    "\n",
    "# Usage\n",
    "query = \"SELECT type, COUNT(*) as count FROM df GROUP BY type\"\n",
    "result = duckq(query)\n"
   ]
  },
  {
   "cell_type": "code",
   "execution_count": 14,
   "metadata": {},
   "outputs": [
    {
     "data": {
      "text/html": [
       "<div>\n",
       "<style scoped>\n",
       "    .dataframe tbody tr th:only-of-type {\n",
       "        vertical-align: middle;\n",
       "    }\n",
       "\n",
       "    .dataframe tbody tr th {\n",
       "        vertical-align: top;\n",
       "    }\n",
       "\n",
       "    .dataframe thead th {\n",
       "        text-align: right;\n",
       "    }\n",
       "</style>\n",
       "<table border=\"1\" class=\"dataframe\">\n",
       "  <thead>\n",
       "    <tr style=\"text-align: right;\">\n",
       "      <th></th>\n",
       "      <th>type</th>\n",
       "      <th>count</th>\n",
       "    </tr>\n",
       "  </thead>\n",
       "  <tbody>\n",
       "    <tr>\n",
       "      <th>0</th>\n",
       "      <td>TV Show</td>\n",
       "      <td>2676</td>\n",
       "    </tr>\n",
       "    <tr>\n",
       "      <th>1</th>\n",
       "      <td>Movie</td>\n",
       "      <td>6131</td>\n",
       "    </tr>\n",
       "  </tbody>\n",
       "</table>\n",
       "</div>"
      ],
      "text/plain": [
       "      type  count\n",
       "0  TV Show   2676\n",
       "1    Movie   6131"
      ]
     },
     "execution_count": 14,
     "metadata": {},
     "output_type": "execute_result"
    }
   ],
   "source": [
    "result"
   ]
  },
  {
   "cell_type": "markdown",
   "metadata": {},
   "source": [
    "| Part              | Meaning                                                     |\n",
    "| ----------------- | ----------------------------------------------------------- |\n",
    "| `duckq =`         | Create a new variable (your query function) called `duckq`. |\n",
    "| `lambda q:`       | Anonymous function that takes a SQL query (`q`) as input.   |\n",
    "| `duckdb.query(q)` | Run the SQL query using DuckDB.                             |\n",
    "| `.to_df()`        | Convert the result to a pandas DataFrame. ✅                 |\n"
   ]
  },
  {
   "cell_type": "code",
   "execution_count": 21,
   "metadata": {},
   "outputs": [],
   "source": [
    "query = \"\"\"\n",
    "SELECT \n",
    "  title,\n",
    "  type,\n",
    "  release_year,\n",
    "  ROW_NUMBER() OVER (PARTITION BY type ORDER BY release_year DESC) AS row_num\n",
    "FROM df\n",
    "WHERE release_year IS NOT NULL\n",
    "LIMIT 10\n",
    "\"\"\"\n",
    "\n",
    "result = duckq(query)"
   ]
  },
  {
   "cell_type": "code",
   "execution_count": 22,
   "metadata": {},
   "outputs": [
    {
     "data": {
      "text/html": [
       "<div>\n",
       "<style scoped>\n",
       "    .dataframe tbody tr th:only-of-type {\n",
       "        vertical-align: middle;\n",
       "    }\n",
       "\n",
       "    .dataframe tbody tr th {\n",
       "        vertical-align: top;\n",
       "    }\n",
       "\n",
       "    .dataframe thead th {\n",
       "        text-align: right;\n",
       "    }\n",
       "</style>\n",
       "<table border=\"1\" class=\"dataframe\">\n",
       "  <thead>\n",
       "    <tr style=\"text-align: right;\">\n",
       "      <th></th>\n",
       "      <th>title</th>\n",
       "      <th>type</th>\n",
       "      <th>release_year</th>\n",
       "      <th>row_num</th>\n",
       "    </tr>\n",
       "  </thead>\n",
       "  <tbody>\n",
       "    <tr>\n",
       "      <th>0</th>\n",
       "      <td>The Netflix Afterparty</td>\n",
       "      <td>TV Show</td>\n",
       "      <td>2021</td>\n",
       "      <td>1</td>\n",
       "    </tr>\n",
       "    <tr>\n",
       "      <th>1</th>\n",
       "      <td>Midnight Mass</td>\n",
       "      <td>TV Show</td>\n",
       "      <td>2021</td>\n",
       "      <td>2</td>\n",
       "    </tr>\n",
       "    <tr>\n",
       "      <th>2</th>\n",
       "      <td>The Great British Baking Show</td>\n",
       "      <td>TV Show</td>\n",
       "      <td>2021</td>\n",
       "      <td>3</td>\n",
       "    </tr>\n",
       "    <tr>\n",
       "      <th>3</th>\n",
       "      <td>Vendetta: Truth, Lies and The Mafia</td>\n",
       "      <td>TV Show</td>\n",
       "      <td>2021</td>\n",
       "      <td>4</td>\n",
       "    </tr>\n",
       "    <tr>\n",
       "      <th>4</th>\n",
       "      <td>Bangkok Breaking</td>\n",
       "      <td>TV Show</td>\n",
       "      <td>2021</td>\n",
       "      <td>5</td>\n",
       "    </tr>\n",
       "    <tr>\n",
       "      <th>5</th>\n",
       "      <td>Crime Stories: India Detectives</td>\n",
       "      <td>TV Show</td>\n",
       "      <td>2021</td>\n",
       "      <td>6</td>\n",
       "    </tr>\n",
       "    <tr>\n",
       "      <th>6</th>\n",
       "      <td>Dear White People</td>\n",
       "      <td>TV Show</td>\n",
       "      <td>2021</td>\n",
       "      <td>7</td>\n",
       "    </tr>\n",
       "    <tr>\n",
       "      <th>7</th>\n",
       "      <td>Jaguar</td>\n",
       "      <td>TV Show</td>\n",
       "      <td>2021</td>\n",
       "      <td>8</td>\n",
       "    </tr>\n",
       "    <tr>\n",
       "      <th>8</th>\n",
       "      <td>Monsters Inside: The 24 Faces of Billy Milligan</td>\n",
       "      <td>TV Show</td>\n",
       "      <td>2021</td>\n",
       "      <td>9</td>\n",
       "    </tr>\n",
       "    <tr>\n",
       "      <th>9</th>\n",
       "      <td>Love on the Spectrum</td>\n",
       "      <td>TV Show</td>\n",
       "      <td>2021</td>\n",
       "      <td>10</td>\n",
       "    </tr>\n",
       "  </tbody>\n",
       "</table>\n",
       "</div>"
      ],
      "text/plain": [
       "                                             title     type  release_year  \\\n",
       "0                           The Netflix Afterparty  TV Show          2021   \n",
       "1                                    Midnight Mass  TV Show          2021   \n",
       "2                    The Great British Baking Show  TV Show          2021   \n",
       "3              Vendetta: Truth, Lies and The Mafia  TV Show          2021   \n",
       "4                                 Bangkok Breaking  TV Show          2021   \n",
       "5                  Crime Stories: India Detectives  TV Show          2021   \n",
       "6                                Dear White People  TV Show          2021   \n",
       "7                                           Jaguar  TV Show          2021   \n",
       "8  Monsters Inside: The 24 Faces of Billy Milligan  TV Show          2021   \n",
       "9                             Love on the Spectrum  TV Show          2021   \n",
       "\n",
       "   row_num  \n",
       "0        1  \n",
       "1        2  \n",
       "2        3  \n",
       "3        4  \n",
       "4        5  \n",
       "5        6  \n",
       "6        7  \n",
       "7        8  \n",
       "8        9  \n",
       "9       10  "
      ]
     },
     "execution_count": 22,
     "metadata": {},
     "output_type": "execute_result"
    }
   ],
   "source": [
    "result"
   ]
  },
  {
   "cell_type": "code",
   "execution_count": 18,
   "metadata": {},
   "outputs": [
    {
     "name": "stdout",
     "output_type": "stream",
     "text": [
      "      type  total\n",
      "0    Movie   6131\n",
      "1  TV Show   2676\n"
     ]
    }
   ],
   "source": [
    "query = \"\"\"\n",
    "SELECT type, COUNT(*) as total\n",
    "FROM df\n",
    "GROUP BY type\n",
    "\"\"\"\n",
    "\n",
    "result = duckdb.query(query).to_df()\n",
    "print(result)\n"
   ]
  },
  {
   "cell_type": "code",
   "execution_count": 20,
   "metadata": {},
   "outputs": [
    {
     "data": {
      "text/html": [
       "<div>\n",
       "<style scoped>\n",
       "    .dataframe tbody tr th:only-of-type {\n",
       "        vertical-align: middle;\n",
       "    }\n",
       "\n",
       "    .dataframe tbody tr th {\n",
       "        vertical-align: top;\n",
       "    }\n",
       "\n",
       "    .dataframe thead th {\n",
       "        text-align: right;\n",
       "    }\n",
       "</style>\n",
       "<table border=\"1\" class=\"dataframe\">\n",
       "  <thead>\n",
       "    <tr style=\"text-align: right;\">\n",
       "      <th></th>\n",
       "      <th>title</th>\n",
       "      <th>type</th>\n",
       "      <th>release_year</th>\n",
       "      <th>row_num</th>\n",
       "    </tr>\n",
       "  </thead>\n",
       "  <tbody>\n",
       "    <tr>\n",
       "      <th>0</th>\n",
       "      <td>Midnight Mass</td>\n",
       "      <td>TV Show</td>\n",
       "      <td>2021</td>\n",
       "      <td>1</td>\n",
       "    </tr>\n",
       "    <tr>\n",
       "      <th>1</th>\n",
       "      <td>The Great British Baking Show</td>\n",
       "      <td>TV Show</td>\n",
       "      <td>2021</td>\n",
       "      <td>2</td>\n",
       "    </tr>\n",
       "    <tr>\n",
       "      <th>2</th>\n",
       "      <td>Vendetta: Truth, Lies and The Mafia</td>\n",
       "      <td>TV Show</td>\n",
       "      <td>2021</td>\n",
       "      <td>3</td>\n",
       "    </tr>\n",
       "    <tr>\n",
       "      <th>3</th>\n",
       "      <td>Bangkok Breaking</td>\n",
       "      <td>TV Show</td>\n",
       "      <td>2021</td>\n",
       "      <td>4</td>\n",
       "    </tr>\n",
       "    <tr>\n",
       "      <th>4</th>\n",
       "      <td>Crime Stories: India Detectives</td>\n",
       "      <td>TV Show</td>\n",
       "      <td>2021</td>\n",
       "      <td>5</td>\n",
       "    </tr>\n",
       "    <tr>\n",
       "      <th>5</th>\n",
       "      <td>Dear White People</td>\n",
       "      <td>TV Show</td>\n",
       "      <td>2021</td>\n",
       "      <td>6</td>\n",
       "    </tr>\n",
       "    <tr>\n",
       "      <th>6</th>\n",
       "      <td>Jaguar</td>\n",
       "      <td>TV Show</td>\n",
       "      <td>2021</td>\n",
       "      <td>7</td>\n",
       "    </tr>\n",
       "    <tr>\n",
       "      <th>7</th>\n",
       "      <td>Monsters Inside: The 24 Faces of Billy Milligan</td>\n",
       "      <td>TV Show</td>\n",
       "      <td>2021</td>\n",
       "      <td>8</td>\n",
       "    </tr>\n",
       "    <tr>\n",
       "      <th>8</th>\n",
       "      <td>Love on the Spectrum</td>\n",
       "      <td>TV Show</td>\n",
       "      <td>2021</td>\n",
       "      <td>9</td>\n",
       "    </tr>\n",
       "    <tr>\n",
       "      <th>9</th>\n",
       "      <td>Chicago Party Aunt</td>\n",
       "      <td>TV Show</td>\n",
       "      <td>2021</td>\n",
       "      <td>10</td>\n",
       "    </tr>\n",
       "  </tbody>\n",
       "</table>\n",
       "</div>"
      ],
      "text/plain": [
       "                                             title     type  release_year  \\\n",
       "0                                    Midnight Mass  TV Show          2021   \n",
       "1                    The Great British Baking Show  TV Show          2021   \n",
       "2              Vendetta: Truth, Lies and The Mafia  TV Show          2021   \n",
       "3                                 Bangkok Breaking  TV Show          2021   \n",
       "4                  Crime Stories: India Detectives  TV Show          2021   \n",
       "5                                Dear White People  TV Show          2021   \n",
       "6                                           Jaguar  TV Show          2021   \n",
       "7  Monsters Inside: The 24 Faces of Billy Milligan  TV Show          2021   \n",
       "8                             Love on the Spectrum  TV Show          2021   \n",
       "9                               Chicago Party Aunt  TV Show          2021   \n",
       "\n",
       "   row_num  \n",
       "0        1  \n",
       "1        2  \n",
       "2        3  \n",
       "3        4  \n",
       "4        5  \n",
       "5        6  \n",
       "6        7  \n",
       "7        8  \n",
       "8        9  \n",
       "9       10  "
      ]
     },
     "execution_count": 20,
     "metadata": {},
     "output_type": "execute_result"
    }
   ],
   "source": [
    "query = \"\"\"\n",
    "SELECT \n",
    "  title,\n",
    "  type,\n",
    "  release_year,\n",
    "  ROW_NUMBER() OVER (PARTITION BY type ORDER BY release_year DESC) AS row_num\n",
    "FROM df\n",
    "WHERE release_year IS NOT NULL\n",
    "LIMIT 10\n",
    "\"\"\"\n",
    "\n",
    "result = duckdb.query(query).to_df()\n",
    "result\n"
   ]
  },
  {
   "cell_type": "markdown",
   "metadata": {},
   "source": [
    "## For Kaggle - DUCKDB"
   ]
  },
  {
   "cell_type": "code",
   "execution_count": null,
   "metadata": {},
   "outputs": [],
   "source": [
    "!pip install duckdb --quiet\n"
   ]
  },
  {
   "cell_type": "code",
   "execution_count": null,
   "metadata": {},
   "outputs": [],
   "source": [
    "import duckdb\n",
    "\n",
    "# Your Netflix DataFrame\n",
    "import pandas as pd\n",
    "df = pd.read_csv(\"/kaggle/input/netflix-shows/netflix_titles.csv\")\n",
    "\n",
    "# DuckDB shortcut function\n",
    "duckq = lambda q: duckdb.query(q).to_df()\n",
    "\n",
    "query = \"\"\"\n",
    "\n",
    "SELECT type, COUNT(*) FROM df GROUP BY type\n",
    "\n",
    " \"\"\"\n",
    "\n",
    "# Run a SQL query using your shortcut\n",
    "result = duckq(query)\n",
    "result\n"
   ]
  },
  {
   "cell_type": "code",
   "execution_count": null,
   "metadata": {},
   "outputs": [],
   "source": [
    "import seaborn as sns\n",
    "import matplotlib.pyplot as plt\n",
    "\n",
    "# Set Seaborn style\n",
    "sns.set(style='whitegrid')\n",
    "\n",
    "# Run your query again (optional)\n",
    "query = \"\"\"\n",
    "SELECT type, COUNT(*) as count FROM df GROUP BY type\n",
    "\"\"\"\n",
    "result = duckq(query)\n",
    "\n",
    "# Plot using Seaborn\n",
    "plt.figure(figsize=(8, 5))\n",
    "sns.barplot(data=result, x='type', y='count', palette='Set2')\n",
    "\n",
    "# Add titles and labels\n",
    "plt.title(\"🎬 Count of Movies vs TV Shows on Netflix\", fontsize=14)\n",
    "plt.xlabel(\"Type\", fontsize=12)\n",
    "plt.ylabel(\"Count\", fontsize=12)\n",
    "plt.xticks(rotation=0)\n",
    "plt.tight_layout()\n",
    "\n",
    "plt.show()\n"
   ]
  },
  {
   "cell_type": "markdown",
   "metadata": {},
   "source": [
    "## ✅ DuckDB Version of Your DB Class"
   ]
  },
  {
   "cell_type": "markdown",
   "metadata": {},
   "source": [
    "dbhelper_duckdb.py"
   ]
  },
  {
   "cell_type": "code",
   "execution_count": null,
   "metadata": {},
   "outputs": [],
   "source": [
    "import duckdb\n",
    "\n",
    "class DB:\n",
    "    def __init__(self, db_path=\"video_game_sales.duckdb\"):\n",
    "        try:\n",
    "            self.conn = duckdb.connect(db_path)\n",
    "            self.cursor = self.conn.cursor()\n",
    "            print(\"✅ DuckDB connected\")\n",
    "        except Exception as e:\n",
    "            print(\"❌ Connection failed:\", e)\n",
    "\n",
    "    def fetch_genres(self):\n",
    "        try:\n",
    "            self.cursor.execute(\"SELECT DISTINCT genre FROM video_game_sales ORDER BY genre\")\n",
    "            return [row[0] for row in self.cursor.fetchall()]\n",
    "        except Exception as e:\n",
    "            print(\"❌ Failed to fetch genres:\", e)\n",
    "            return []\n"
   ]
  },
  {
   "cell_type": "markdown",
   "metadata": {},
   "source": [
    "# 🧪 Example Usage"
   ]
  },
  {
   "cell_type": "code",
   "execution_count": null,
   "metadata": {},
   "outputs": [],
   "source": [
    "import pandas as pd\n",
    "from dbhelper_duckdb import DB  # Assuming your class is saved in this file\n",
    "\n",
    "# ✅ Step 1: Load CSV data\n",
    "df = pd.read_csv(\"video_game_sales.csv\")\n",
    "\n",
    "# ✅ Step 2: Create DuckDB file and save the DataFrame as a table (only once)\n",
    "import duckdb\n",
    "conn = duckdb.connect(\"video_game_sales.duckdb\")\n",
    "conn.register(\"df\", df)\n",
    "conn.execute(\"CREATE TABLE IF NOT EXISTS video_game_sales AS SELECT * FROM df\")\n",
    "conn.close()\n",
    "\n",
    "# ✅ Step 3: Use the DB class to connect to the DuckDB file\n",
    "db = DB(\"video_game_sales.duckdb\")\n",
    "\n",
    "# Now use the DB class\n",
    "# db = DB()  # Defaults to video_game_sales.duckdb\n",
    "# genres = db.fetch_genres()\n",
    "# print(genres)\n",
    "\n",
    "# ✅ Step 4: Fetch genres\n",
    "genres = db.fetch_genres()\n",
    "print(\"🎮 Genres:\", genres)\n",
    "\n",
    "# ✅ Step 5: Run a custom query\n",
    "def run_query(query):\n",
    "    try:\n",
    "        \n",
    "        return db.cursor.execute(query).fetchdf()\n",
    "    except Exception as e:\n",
    "        print(\"❌ Query failed:\", e)\n",
    "        return None\n",
    "\n",
    "query = \"\"\"\n",
    "SELECT platform, COUNT(*) AS count \n",
    "FROM video_game_sales \n",
    "GROUP BY platform \n",
    "ORDER BY count DESC\n",
    "LIMIT 5\n",
    "\"\"\"\n",
    "\n",
    "result = run_query(query)\n",
    "print(\"🎮 Top Platforms:\\n\", result)\n"
   ]
  },
  {
   "cell_type": "markdown",
   "metadata": {},
   "source": [
    "| Code                               | What It Does                                      |\n",
    "| ---------------------------------- | ------------------------------------------------- |\n",
    "| `duckdb.connect(\"file.duckdb\")`    | Creates (or opens) a **persistent file-based DB** |\n",
    "| `duckdb.connect()` or `\":memory:\"` | Creates a **temporary in-memory DB**              |\n"
   ]
  },
  {
   "cell_type": "code",
   "execution_count": null,
   "metadata": {},
   "outputs": [],
   "source": [
    "import duckdb\n",
    "\n",
    "class DB:\n",
    "    def __init__(self, df):\n",
    "        try:\n",
    "            self.conn = duckdb.connect()  # In-memory connection\n",
    "            self.cursor = self.conn.cursor()\n",
    "            self.cursor.register(\"video_game_sales\", df)  # Register your DataFrame as a table\n",
    "            print(\"✅ DuckDB connected and DataFrame registered\")\n",
    "        except Exception as e:\n",
    "            print(\"❌ Connection failed:\", e)\n",
    "\n",
    "    def fetch_genres(self):\n",
    "        try:\n",
    "            self.cursor.execute(\"SELECT DISTINCT genre FROM video_game_sales ORDER BY genre\")\n",
    "            return [row[0] for row in self.cursor.fetchall()]\n",
    "        except Exception as e:\n",
    "            print(\"❌ Failed to fetch genres:\", e)\n",
    "            return []\n",
    "\n",
    "    def run_query(self, query):\n",
    "        try:\n",
    "            return self.cursor.execute(query).fetchdf()\n",
    "        except Exception as e:\n",
    "            print(\"❌ Query execution failed:\", e)\n",
    "            return None\n"
   ]
  },
  {
   "cell_type": "markdown",
   "metadata": {},
   "source": [
    "# 🧪 Example Usage"
   ]
  },
  {
   "cell_type": "code",
   "execution_count": null,
   "metadata": {},
   "outputs": [],
   "source": [
    "import pandas as pd\n",
    "from dbhelper_duckdb import DB\n",
    "\n",
    "# Load dataset\n",
    "df = pd.read_csv(\"video_game_sales.csv\")\n",
    "\n",
    "# Create DB instance with the DataFrame\n",
    "db = DB(df)\n",
    "\n",
    "# Example: Get genres\n",
    "genres = db.fetch_genres()\n",
    "print(genres)\n",
    "\n",
    "# Example: Run a query\n",
    "result = db.run_query(\"SELECT platform, COUNT(*) AS count FROM video_game_sales GROUP BY platform\")\n",
    "print(result)\n"
   ]
  },
  {
   "cell_type": "markdown",
   "metadata": {},
   "source": [
    "# ✅ Dbhelper_pandasql.py"
   ]
  },
  {
   "cell_type": "code",
   "execution_count": null,
   "metadata": {},
   "outputs": [],
   "source": [
    "from pandasql import sqldf\n",
    "\n",
    "class DB:\n",
    "    def __init__(self, dataframes: dict):\n",
    "        \"\"\"\n",
    "        Initialize the DB helper with a dictionary of pandas DataFrames.\n",
    "        Example: {'df': your_dataframe}\n",
    "        \"\"\"\n",
    "        self.dataframes = dataframes\n",
    "        self.query_engine = lambda q: sqldf(q, self.dataframes)\n",
    "        print(\"✅ pandasql engine ready\")\n",
    "\n",
    "    def run_query(self, query: str):\n",
    "        try:\n",
    "            return self.query_engine(query)\n",
    "        except Exception as e:\n",
    "            print(\"❌ Query failed:\", e)\n",
    "            return None\n",
    "\n",
    "    def fetch_genres(self):\n",
    "        query = \"\"\"\n",
    "        SELECT DISTINCT genre \n",
    "        FROM video_game_sales \n",
    "        WHERE genre IS NOT NULL\n",
    "        ORDER BY genre\n",
    "        \"\"\"\n",
    "        return self.run_query(query)\n"
   ]
  },
  {
   "cell_type": "markdown",
   "metadata": {},
   "source": [
    "# 🧪 Usage Example"
   ]
  },
  {
   "cell_type": "code",
   "execution_count": null,
   "metadata": {},
   "outputs": [],
   "source": [
    "import pandas as pd\n",
    "from dbhelper_pandasql import DB\n",
    "\n",
    "# Load your CSV into a DataFrame\n",
    "df = pd.read_csv(\"video_game_sales.csv\")\n",
    "\n",
    "# Initialize helper with DataFrame registered as 'video_game_sales'\n",
    "db = DB({'video_game_sales': df})\n",
    "\n",
    "# Run a custom query\n",
    "result = db.run_query(\"SELECT platform, COUNT(*) as total FROM video_game_sales GROUP BY platform\")\n",
    "print(result)\n",
    "\n",
    "# Use the helper method\n",
    "genres = db.fetch_genres()\n",
    "print(genres)\n"
   ]
  },
  {
   "cell_type": "markdown",
   "metadata": {},
   "source": [
    "| DB             | `fetchdf()` Available? | Alternative                |\n",
    "| -------------- | ---------------------- | -------------------------- |\n",
    "| **DuckDB**     | ✅ Yes                  | `fetchdf()`                |\n",
    "| **SQLite**     | ❌ No                   | `fetchall()` + `DataFrame` |\n",
    "| **MySQL**      | ❌ No                   | `fetchall()` + `DataFrame` |\n",
    "| **PostgreSQL** | ❌ No                   | `fetchall()` + `DataFrame` |\n"
   ]
  },
  {
   "cell_type": "markdown",
   "metadata": {},
   "source": [
    "# For sqlite, mysql, postgresql"
   ]
  },
  {
   "cell_type": "markdown",
   "metadata": {},
   "source": [
    "mysql\n"
   ]
  },
  {
   "cell_type": "code",
   "execution_count": null,
   "metadata": {},
   "outputs": [],
   "source": [
    "import pandas as pd\n",
    "import matplotlib.pyplot as plt\n",
    "import seaborn as sns\n",
    "import mysql.connector\n",
    "import numpy as np\n",
    "\n",
    "# use mysql.connector.connect instead of mysql.connect\n",
    "db = mysql.connector.connect(\n",
    "    host=\"127.0.0.1\",\n",
    "    user=\"root\",\n",
    "    password=\"kaustav007\",\n",
    "    port=3306,\n",
    "    database=\"ecommerce\"\n",
    ")\n",
    "\n",
    "cur = db.cursor()\n",
    "\n",
    "query = \"\"\" SELECT DISTINCT customer_city from customers \"\"\"\n",
    "\n",
    "cur.execute(query)\n",
    "\n",
    "data = cur.fetchall()\n",
    "\n",
    "df = pd.DataFrame(data)\n",
    "df.head()"
   ]
  },
  {
   "cell_type": "markdown",
   "metadata": {},
   "source": [
    "sqlite"
   ]
  },
  {
   "cell_type": "code",
   "execution_count": null,
   "metadata": {},
   "outputs": [],
   "source": [
    "import sqlite3\n",
    "import pandas as pd\n",
    "\n",
    "conn = sqlite3.connect(\"your_database.db\")\n",
    "cur = conn.cursor()\n",
    "\n",
    "cur.execute(\"SELECT DISTINCT customer_city FROM customers\")\n",
    "rows = cur.fetchall()\n",
    "columns = [desc[0] for desc in cur.description]\n",
    "df = pd.DataFrame(rows, columns=columns)\n"
   ]
  },
  {
   "cell_type": "markdown",
   "metadata": {},
   "source": [
    "mysql"
   ]
  },
  {
   "cell_type": "code",
   "execution_count": null,
   "metadata": {},
   "outputs": [],
   "source": [
    "import mysql.connector\n",
    "import pandas as pd\n",
    "\n",
    "# Step 1: Connect to MySQL\n",
    "conn = mysql.connector.connect(\n",
    "    host=\"localhost\",        # or your DB host\n",
    "    user=\"your_username\",\n",
    "    password=\"your_password\",\n",
    "    database=\"your_database\"\n",
    ")\n",
    "\n",
    "cursor = conn.cursor()\n",
    "\n",
    "# Step 2: Execute the Query\n",
    "query = \"SELECT DISTINCT customer_city FROM customers\"\n",
    "cursor.execute(query)\n",
    "\n",
    "# Step 3: Fetch all results\n",
    "rows = cursor.fetchall()\n",
    "\n",
    "# Step 4: Get column names\n",
    "columns = [desc[0] for desc in cursor.description]\n",
    "\n",
    "# Step 5: Convert to DataFrame\n",
    "df = pd.DataFrame(rows, columns=columns)\n",
    "\n",
    "# Step 6: Print the DataFrame\n",
    "print(df.head())\n",
    "\n",
    "# Clean up\n",
    "cursor.close()\n",
    "conn.close()\n"
   ]
  }
 ],
 "metadata": {
  "kernelspec": {
   "display_name": "base",
   "language": "python",
   "name": "python3"
  },
  "language_info": {
   "codemirror_mode": {
    "name": "ipython",
    "version": 3
   },
   "file_extension": ".py",
   "mimetype": "text/x-python",
   "name": "python",
   "nbconvert_exporter": "python",
   "pygments_lexer": "ipython3",
   "version": "3.12.7"
  }
 },
 "nbformat": 4,
 "nbformat_minor": 2
}
